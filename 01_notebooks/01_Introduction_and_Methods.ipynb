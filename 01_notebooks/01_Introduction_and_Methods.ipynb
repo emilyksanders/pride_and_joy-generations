{
 "cells": [
  {
   "cell_type": "markdown",
   "id": "bba42f54-f0f0-4983-8369-ba2b309278a6",
   "metadata": {},
   "source": [
    "# **Pride and Joy**\n",
    "### *An investigation of mental health correlates in LGBQ+ people*\n",
    "| | | | | | | | | | | | | | | | | | | | | | | | | | | | | | | | | | |\n",
    "|-|-|-|-|-|-|-|-|-|-|-|-|-|-|-|-|-|-|-|-|-|-|-|-|-|-|-|-|-|-|-|-|-|-|\n",
    "|Emily K. Sanders| | | | | | | | | | | | | | | | | | | | | | | | | | | | | | | | |Capstone Project|\n",
    "|DSB-318| | | | | | | | | | | | | | | | | | | | | | | | | | | | | | | | |June 13, 2024|\n",
    "---"
   ]
  },
  {
   "cell_type": "markdown",
   "id": "f403ee85-5da2-456a-910c-d759ead07d5c",
   "metadata": {},
   "source": [
    "## Problem Statement"
   ]
  },
  {
   "cell_type": "markdown",
   "id": "0b4673ef-c3c3-4062-bad1-d6fd09d78179",
   "metadata": {},
   "source": [
    "My goal is to create a statistical model from which to draw inferences about different variables that predict better or worse psychological outcomes for people with minority sexual identities. In my conclusions section, I will interpret these findings and offer suggestions for social, political, and personal actions that we can all take to improve these outcomes."
   ]
  },
  {
   "cell_type": "markdown",
   "id": "41ccd64b-75ab-42fa-9548-470f6fff7c86",
   "metadata": {},
   "source": [
    "### Deliverables"
   ]
  },
  {
   "cell_type": "markdown",
   "id": "db61b0cc-5ec3-410e-a222-f3896f0e37a4",
   "metadata": {},
   "source": [
    "- A written report of my work and findings, including interpretation and recommendations.\n",
    "- A slideshow to accompany the presentation of this report."
   ]
  },
  {
   "cell_type": "markdown",
   "id": "4f7518c8-5040-4377-b76c-ae3d850e1108",
   "metadata": {},
   "source": [
    "## Table of Contents"
   ]
  },
  {
   "cell_type": "markdown",
   "id": "77c4c7a8-d914-48c8-8d49-cac82a289b8c",
   "metadata": {},
   "source": [
    "- [Introduction](#introduction)\n",
    "  - [Terminology](#terminology)\n",
    "- [Method](##Method)  \n",
    "  - [Apparatus](###Apparatus)\n",
    "  - [Data Acquisition](###Data-Acquisition)  \n",
    "  - [Dataset](###Datasets)  \n",
    "  - [Operational Definitions](###Operational-Definitions)\n",
    "  - [Strategy](###Strategy) \n",
    "- [Notebook Summary](##Notebook-Summary)  "
   ]
  },
  {
   "cell_type": "markdown",
   "id": "2a1c9265-01ca-43f2-9b67-6fef639e774c",
   "metadata": {},
   "source": [
    "## Introduction"
   ]
  },
  {
   "cell_type": "markdown",
   "id": "a66d1897-78a1-449b-a919-c64a573c241c",
   "metadata": {},
   "source": [
    "Prior research has established that people with minority sexual identities experience higher rates of psychological distress and mental illness, and strongly suggests that, in addition to universal stressors like poverty or abuse, these experiences of distress may be driven by unique factors related to social oppression ([Meyer, 1995](https://www.jstor.org/stable/2137286?origin=crossref)).  Prior research has also found, however, that these same populations can draw on unique sources of strength and protection from psychological harm.  In particular, there is some evidence to suggest that feelings of connection, belonging, and pride in one's sexual minority identity and community may buffer - or even eliminate - the harmful effects of social stigma and oppression ([Fingerhut, Peplau, & Gable, 2010](https://www.tandfonline.com/doi/abs/10.1080/19419899.2010.484592)).  In the current work, I aim to replicate and expand upon these prior findings, so as to better understand the drivers of psychological distress in this population, as well as potential protective factors."
   ]
  },
  {
   "cell_type": "markdown",
   "id": "f7a8ec59-bcca-4ab4-9bf4-a4a3dc9d9d34",
   "metadata": {},
   "source": [
    "### Terminology"
   ]
  },
  {
   "cell_type": "markdown",
   "id": "06381211-fe2e-4a0f-975a-7867db4e25a0",
   "metadata": {},
   "source": [
    "The terminology used for sexual orientations and identities is a perennial source of both discourse and discord.  Although it is always best practice to refer to individuals by the terms they choose for themselves, the practical logistics of a project such as this one, in which many individual's responses are considered in the aggregate, require researchers to choose an umbrella term.  In the original documentation accompanying the dataset I used, the authors referred to their participants as \"LGB,\" which stands for lesbian, gay, and bisexual. However, when reviewing their results, they discovered that many participants identified with terms other than these three (see p. 14-15 of *37166-Documentation-methodology.pdf*, in the download folder with the data).  In order to represent these participants more explicitly, and to avoid the use of acronyms that readers may or may not be familiar with, I opted to use the word \"queer\" to describe the sample.  Although this term is not preferred by all non-heterosexual or non-cisgender people, it is an established, simple term that is broadly accepted in academia and social movements.  For a brief overview, please see [this excellent guide](https://guides.libraries.indiana.edu/c.php?g=995240&p=8361766) from the Indiana University at Bloomington Library."
   ]
  },
  {
   "cell_type": "markdown",
   "id": "1d7b9d8b-5f20-4ae1-8c7f-658d0c8f2728",
   "metadata": {},
   "source": [
    "### Definition of Success"
   ]
  },
  {
   "cell_type": "markdown",
   "id": "31279b05-6230-4f23-b1eb-6c9384f2965c",
   "metadata": {},
   "source": [
    "Because my goal is to create a model for inference, not prediction, I am not overly concerned with its ability to explain all of the variance in the data, nor with its generalizability to other datasets.  I will, of course, attempt to create the best model I can, as measured by $R^2$ and several loss functions.  However, many methods to improve a model's performance (e.g., regularization) impair its interpretability, and would therefore be inappropriate in the current context.  For this reason, I do not expect, and do not require, the exceptional metrics that many of my peers in the field of data science are able to obtain with predictive models.  Instead, I will interpret my results on their own terms, drawing what conclusions I can, relating them to prior findings where possible, and identifying areas that remain ambiguous for followup research.  In this work, the definition of success is simply to understand queer mental health better - even if that understanding is limited to a wish list for future work."
   ]
  },
  {
   "cell_type": "markdown",
   "id": "b6d57fd8-92e0-4f1c-903e-8b23c9586cb1",
   "metadata": {},
   "source": [
    "## Method"
   ]
  },
  {
   "cell_type": "markdown",
   "id": "a32048dc-ce0a-41b0-bae4-ea99dee460bd",
   "metadata": {},
   "source": [
    "To answer the question of what factors predict positive or negative mental health in queer people, I created a linear regression model of participant's responses to a general mental health inventory, based on their responses to questions about themselves, their experiences, and their social contexts.\n",
    "\n",
    "My target variable, scores from a general mental health inventory known as [Kessler-6](https://pubmed.ncbi.nlm.nih.gov/12578436/) (Kessler et al., 2003, as cited in the original documentation), consists of participant's responses of how many days in the past month they experienced 6 psychological symptoms.  As explained on p. 22-23 of *37166-Documentation-methodology.pdf*, part of the original documentation:\n",
    ">\\[The Kessler-6 inventory is] a 6-item scale from the National Comorbidity Survey (Kessler et al., 2003). Scale items (w1q77A- w1q77F) asked respondents how often, in the past 30 days, they had felt “nervous,” “hopeless,” “restless or fidgety,” “so depressed that nothing could cheer you up,” “that everything was an effort,” and “worthless.” Responses were recorded on a 5-point scale ranging from “all of the time” to “none of the time.”\n",
    "\n",
    "The overall score of this scale was calculated by summing up the responses to each item, resulting in scores from 0-24, with higher scores indicating greater mental distress.\n",
    "\n",
    "Using such a general scale as a target variable allowed me to look for factors that predict overall distress or protection.  Much previous research has used more specific scales to assess specific psychological outcomes, but this approach necessarily requires much more complex interpretation than is feasible for the current project (e.g., in 2016, Sanders and Chalk found that, among gay and lesbian participants, experiencing overt homophobic discrimination predicted many negative outcomes, but internalized homophobia only predicted stress).  Furthermore, using a general scale like Kessler-6 allows researchers to capture distress, even if it manifests differently in different people.  If a suitable model can be found for this variable, the inferences drawn from it may prove to be more generalizable than those related to any one specific psychological symptom(s). "
   ]
  },
  {
   "cell_type": "markdown",
   "id": "8dbba10b-7e8b-4f67-a02b-37474e93fcbb",
   "metadata": {},
   "source": [
    "### Apparatus"
   ]
  },
  {
   "cell_type": "markdown",
   "id": "886c17d7-4860-465e-9841-a3ede45af9d8",
   "metadata": {},
   "source": [
    "Throughout the course of this project, I used `python` to manipulate, analyze, and model the data.  Some of the modules I used include `pandas`, `numpy`, `matplotlib`, `seaborn`, `time`, `datetime`, `os`, `string`, `statsmodels`, and several libraries within `sklearn`.  The developers of these modules, and of `python` itself, have graciously made their work open source. "
   ]
  },
  {
   "cell_type": "markdown",
   "id": "0bbbbc77-82e4-4fc4-83a3-94d132aa123f",
   "metadata": {},
   "source": [
    "### Data Acquisition"
   ]
  },
  {
   "cell_type": "markdown",
   "id": "aebbb50f-6dc4-4f07-9a66-400e2148eac8",
   "metadata": {},
   "source": [
    "For my report, I found and used a dataset called *Generations*, published by Ilan H. Meyer, Ph.D., in *Data Sharing for Demographic Research* ([DSDR](https://www.icpsr.umich.edu/web/pages/DSDR/index.html)), a data archive of the *Institute for Social Research* ([ICPSR](https://www.icpsr.umich.edu/web/pages/index.html)) at the University of Michigan.  This dataset, like all datasets in the archive, is only available to download with an ICPSR account, and members are not permitted to redistribute the datasets.  Therefore, **I have not included the dataset in my public report**, and I urge anyone reproducing my work to similarly avoid posting the data anywhere publically.  However, the data is publically available and free to access, so any reader wishing to follow along with or replicate my work may do so by following the instructions below.  **Please note that none of the notebooks will run without this step.**\n",
    "\n",
    "1. Visit the [DSDR study page](https://www.icpsr.umich.edu/web/DSDR/studies/37166)\n",
    "2. Click \"Download\" and select \"Delimited\"\n",
    "3. Select one of the \"Sign In\" options.\n",
    "4. Click \"Set up a new account.\" (Or sign in, if you happen to already have an account.)\n",
    "5. Fill out the information and click \"Next.\"\n",
    "6. Follow the instructions on screen to verify your account.  Once your account is verified, you should be automatically redirected back to the study page.\n",
    "7. Click \"Download\" again and select \"Delimited\" again.\n",
    "8. Answer the questions on screen and click \"Save.\"\n",
    "9. Click \"Agree\" on the Terms of Use.\n",
    "10. The file will either download automatically into your Downloads folder, or a pop-up window will appear for you to choose the destination.\n",
    "11. Locate the file on your computer.\n",
    "12. Unzip the file `ICPSR_37166-v2.zip` to the location of your choice.\n",
    "13. Within the zip folder, locate the folder `DS0007`.\n",
    "14. Within `DS0007`, locate `37166-0007-Data.tsv`.  This is the data file.\n",
    "\n",
    "Curious readers may also be interested in the other file in that folder, `DS0007/37166-0007-Codebook-ICPSR.pdf`, which is part of the documentation for the original data.  It includes frequency counts for every variable, as well as some archival notes from DSDR.  If you exit out of `DS0007` back to the root directory of the unzipped folder, you'll find another documentation file: `37166-Documentation-methodology.pdf`.  This file came from the original author, and includes instructions, descriptions, and Cronbach's alpha scores for their computed variables.  I referred to both documents extensively during my work.\n",
    "\n",
    "As indicated in the name of the zip file above, I used version 2 of this dataset, which was the only one available when I downloaded it on May 23, 2024.  Version 2 was then, and still is as of this writing, the most recent and up-to-date version of the materials, having been published on January 5, 2023.  However, it should be noted that the datasets on ICPSR's website are occasionally updated. Should future replications encounter errors or differing results than my own, I humbly request that they first ensure that the ICPSR files have not changed since that time.\n",
    "\n",
    "Finally, I would like to extend my gratitude to Dr. Meyer for sharing this data with the public, and to the teams at DSDR and ICPSR for maintaining the archive.\n",
    "\n",
    "Citation:\n",
    "Meyer, Ilan H. Generations: A Study of the Life and Health of LGB People in a Changing Society, United States, 2016-2019. Inter-university Consortium for Political and Social Research \\[distributor\\], 2023-01-05. https://doi.org/10.3886/ICPSR37166.v2"
   ]
  },
  {
   "cell_type": "markdown",
   "id": "c23a67af-82a1-48b4-8e8a-f37b0bfbe4f0",
   "metadata": {},
   "source": [
    "### Sample"
   ]
  },
  {
   "cell_type": "markdown",
   "id": "431cfbfc-fb49-44c3-a712-f86e8fffd7bd",
   "metadata": {},
   "source": [
    "The terminology used for sexual orientations and identities is a perennial source of both discourse and discord.  Although it is always best practice to refer to individuals by the terms they choose for themselves, the practical logistics of a project such as this one, in which many individual's responses are considered in the aggregate, require researchers to choose an umbrella term.  In the original documentation accompanying the dataset I used, the authors referred to their participants as \"LGB,\" the first three letters of the common acronym LGBT, which stands for lesbian, gay, bisexual, and transgender.  The authors opted to drop the T because transgender participants were routed to a different study, although participants who did not identify as cisgender or transgender were retained in *Generations*:\n",
    ">Respondents who were\n",
    "transgender, regardless of their sexual orientation, were screened for participation in a\n",
    "companion study, TransPop (see [www.TransPop.org](http://www.transpop.org/), which included questions to\n",
    "address issues that are specific to transgender people (e.g., transitioning). Respondents\n",
    "who were sexual minorities and gender nonbinary, but did not identify as transgender,\n",
    "were included in the Generations study. "
   ]
  },
  {
   "cell_type": "markdown",
   "id": "28ee855f-8f96-4507-82f3-ba1761be0b91",
   "metadata": {},
   "source": [
    "### Strategy"
   ]
  },
  {
   "cell_type": "markdown",
   "id": "527bc090-27e7-45c1-a694-d86973941d2b",
   "metadata": {},
   "source": [
    "My Method section is continued in the next two notebooks.  In these notebooks, I have included the `python` code I used and demonstrated how I cleaned and transformed the data in preparation for modeling.  Once those processes were complete, I conducted exploratory data analysis to reveal the relationships between the different variables, and then modeled the participants' Kessler-6 scores on their other responses.  I then interpreted this model to look for insights on how to improve mental health outcomes for queer people."
   ]
  },
  {
   "cell_type": "markdown",
   "id": "3506f2d1-5493-45e7-88a7-17eca302ddbe",
   "metadata": {},
   "source": [
    "## Notebook Summary"
   ]
  },
  {
   "cell_type": "markdown",
   "id": "4e6a535b-5d85-4b2c-9158-3c3eda119cbb",
   "metadata": {},
   "source": [
    "In this notebook, I have introduced the purpose and background of this project, and begun to explain my methods.\n",
    "\n",
    "In the next notebook, I will begin cleaning the data in preparation for modeling."
   ]
  }
 ],
 "metadata": {
  "kernelspec": {
   "display_name": "Python 3 (ipykernel)",
   "language": "python",
   "name": "python3"
  },
  "language_info": {
   "codemirror_mode": {
    "name": "ipython",
    "version": 3
   },
   "file_extension": ".py",
   "mimetype": "text/x-python",
   "name": "python",
   "nbconvert_exporter": "python",
   "pygments_lexer": "ipython3",
   "version": "3.11.7"
  }
 },
 "nbformat": 4,
 "nbformat_minor": 5
}
