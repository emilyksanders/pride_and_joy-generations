{
 "cells": [
  {
   "cell_type": "markdown",
   "id": "bba42f54-f0f0-4983-8369-ba2b309278a6",
   "metadata": {},
   "source": [
    "# **Pride and Joy**\n",
    "### *An investigation of mental health correlates in LGBQ+ people*\n",
    "| | | | | | | | | | | | | | | | | | | | | | | | | | | | | | | | | | |\n",
    "|-|-|-|-|-|-|-|-|-|-|-|-|-|-|-|-|-|-|-|-|-|-|-|-|-|-|-|-|-|-|-|-|-|-|\n",
    "|Emily K. Sanders| | | | | | | | | | | | | | | | | | | | | | | | | | | | | | | | |Capstone Project|\n",
    "|DSB-318| | | | | | | | | | | | | | | | | | | | | | | | | | | | | | | | |June 13, 2024|\n",
    "---"
   ]
  },
  {
   "cell_type": "markdown",
   "id": "c25b455d-da3a-443f-9d58-320201f1d391",
   "metadata": {},
   "source": [
    "## Prior Notebooks Summary"
   ]
  },
  {
   "cell_type": "markdown",
   "id": "fd408180-1c7a-4ca9-a379-b8642378a7bf",
   "metadata": {},
   "source": [
    "In the previous notebook, I introduced the background and purpose of this project, and gave an overview of my intended methods.\n",
    "\n",
    "In this notebook, I will begin preparing the data for modeling, and demonstrate the `python` code I used.  Specifically, this notebook addresses preliminary feature selection and the imputation of missing values."
   ]
  },
  {
   "cell_type": "markdown",
   "id": "4f7518c8-5040-4377-b76c-ae3d850e1108",
   "metadata": {},
   "source": [
    "## Table of Contents"
   ]
  },
  {
   "cell_type": "markdown",
   "id": "77c4c7a8-d914-48c8-8d49-cac82a289b8c",
   "metadata": {},
   "source": [
    "- [Data Preparation](#data-preparation)\n",
    "  - [Imports](#imports)\n",
    "  - [Renaming Columns](#renaming-columns) \n",
    "  - [Feature Selection](#feature-selection)\n",
    "  - [Missing Values and Imputation](#missing-values-and-imputation)\n",
    "- [Notebook Summary](#notebook-summary)  "
   ]
  },
  {
   "cell_type": "markdown",
   "id": "07ee2112-63e6-41f3-9524-33bd078f9137",
   "metadata": {},
   "source": [
    "## Data Preparation"
   ]
  },
  {
   "cell_type": "markdown",
   "id": "087e6e42-47c5-4fa9-a4db-f06b609eff8e",
   "metadata": {},
   "source": [
    "In the cells below, I have reported the steps I took to prepare the dataset for modeling.  Readers should recall from the *Introduction and Methods* notebook that none of the code will run unless they download the dataset from DSDR's archive, and import it when prompted below.  **Anyone wishing to reproduce my work must first obtain a copy of the dataset from DSDR.**\n",
    "\n",
    "Where neccessary, I have provided commentary on the code below.  Otherwise, I trust that readers will find the code self-explanatory.\n",
    "\n",
    "**Note:** Because I add and drop many columns throughout this notebook, the following `PerformanceWarning` may appear, particularly if a reader tries to reproduce my work:\n",
    ">PerformanceWarning: DataFrame is highly fragmented.  This is usually the result of calling `frame.insert` many times, which has poor performance.  Consider joining all columns at once using pd.concat(axis=1) instead. To get a de-fragmented frame, use `newframe = frame.copy()`\n",
    "\n",
    "Should this happen, readers need not worry about it.  The last cell of this notebook saves a new CSV to be imported into the next notebook, at which point, the dataframe will no longer be fragmented."
   ]
  },
  {
   "cell_type": "markdown",
   "id": "9324aa3a-cbe1-4750-bcc6-1126e121be41",
   "metadata": {},
   "source": [
    "### Imports"
   ]
  },
  {
   "cell_type": "code",
   "execution_count": 1,
   "id": "93f8a550-c953-4458-8846-827e3b2c9954",
   "metadata": {},
   "outputs": [],
   "source": [
    "# Import modules\n",
    "import pandas as pd\n",
    "import numpy as np\n",
    "import os\n",
    "from sklearn.impute import SimpleImputer\n",
    "from warnings import simplefilter"
   ]
  },
  {
   "cell_type": "code",
   "execution_count": 2,
   "id": "7213840a-efdc-45a2-b806-862503a3b5d2",
   "metadata": {},
   "outputs": [],
   "source": [
    "# Settings preferences\n",
    "pd.set_option('display.max_rows', None)\n",
    "pd.options.mode.chained_assignment = None \n",
    "simplefilter(action=\"ignore\", category=pd.errors.PerformanceWarning)\n",
    "# Thanks to daydaybroskii and KingOtto at Stack Overflow for that one\n",
    "# https://stackoverflow.com/questions/68292862/performancewarning-dataframe-is-highly-fragmented-this-is-usually-the-result-o"
   ]
  },
  {
   "cell_type": "markdown",
   "id": "51ef18f4-6f3e-486a-925b-3d9a3cf35a6a",
   "metadata": {},
   "source": [
    "While preparing this report on my local computer, I used the absolute path in the cell below, which has since been commented out, to import my copy of the dataset.  Any readers wishing to follow along should uncomment the code in the cell after that, and modify it to point to the location of the file on their own computer.  I named the resulting dataframe `meyer`, in honor of Ilan H. Meyer, the author of the original study and a pioneer in the study of minority stress, especially as it pertains to queer people.  Readers should note that if they change that name in their import cell, they will also have to change it throughout the code."
   ]
  },
  {
   "cell_type": "code",
   "execution_count": 73,
   "id": "440bd60b-a6b8-414e-89d8-c99170df0960",
   "metadata": {},
   "outputs": [],
   "source": [
    "# # Import the data - mine\n",
    "# meyer = pd.read_csv(\n",
    "#   '../../potential_datasets/2024_05_23_download_ICPSR_Meyer_2023_generations_data_attempt_2/ICPSR_37166/DS0007/37166-0007-Data.tsv', \n",
    "#   sep = '\\t', low_memory=False, na_values = ' ') # Many thanks to ibrahim rupawala for highlighting the na_values argument\n",
    "#   # https://stackoverflow.com/questions/13445241/replacing-blank-values-white-space-with-nan-in-pandas/47105408#47105408"
   ]
  },
  {
   "cell_type": "code",
   "execution_count": 4,
   "id": "0aeac3ee-48fd-480f-951d-8ec774618cfe",
   "metadata": {},
   "outputs": [],
   "source": [
    "# Import the data - yours\n",
    "# meyer = pd.read_csv('your_path/37166-0007-Data.tsv', \n",
    "#   sep = '\\t', low_memory=False, na_values = ' ')"
   ]
  },
  {
   "cell_type": "code",
   "execution_count": 5,
   "id": "f8b419a5-4736-44d6-8d10-3cae948e8db2",
   "metadata": {},
   "outputs": [
    {
     "data": {
      "text/plain": [
       "(1518, 1329)"
      ]
     },
     "execution_count": 5,
     "metadata": {},
     "output_type": "execute_result"
    }
   ],
   "source": [
    "# Ours\n",
    "meyer.shape"
   ]
  },
  {
   "cell_type": "markdown",
   "id": "7b7eb05f-6e25-4f63-a749-b0b793270634",
   "metadata": {},
   "source": [
    "### Renaming Columns"
   ]
  },
  {
   "cell_type": "markdown",
   "id": "2bc16735-ff68-4973-8731-96c313845f8e",
   "metadata": {},
   "source": [
    "The variable names in the original dataset are in all uppercase letters.  Per `python` norms (and, conveniently, my own preference), I converted them to all lowercase letters.  This was the only change necessary to achieve `snake_case`."
   ]
  },
  {
   "cell_type": "code",
   "execution_count": 6,
   "id": "711d61ba-582f-416a-96f0-617efaa6e9bc",
   "metadata": {},
   "outputs": [],
   "source": [
    "# Rename the columns\n",
    "meyer.columns = [c.lower() for c in list(meyer.columns)]"
   ]
  },
  {
   "cell_type": "markdown",
   "id": "9e0642a4-95fc-47f4-bd55-5cad0ddb40be",
   "metadata": {},
   "source": [
    "### Feature Selection"
   ]
  },
  {
   "cell_type": "markdown",
   "id": "044cdf33-810a-4382-8545-5f85466a066d",
   "metadata": {},
   "source": [
    "Meyer's original study was longitudinal, so the dataset he provided included responses from the participants at up to three different times of measurement, referred to as waves.  Many authors have done excellent analyses on this time-series element.  However, as is often the case, Meyer's longitudinal study suffered from attrition effects, and only 616 participants responded to all three rounds of data collection.  In the interest of preserving a larger sample, I chose to cross-sectionally investigate the wave 1 responses only, for an initial sample size of 1518.  Therefore, I dropped the columns pertaining to wave 2 or 3."
   ]
  },
  {
   "cell_type": "code",
   "execution_count": 7,
   "id": "6a47113e-fb4d-4f9e-b9a2-e16e1310b69b",
   "metadata": {},
   "outputs": [
    {
     "data": {
      "text/plain": [
       "waveparticipated\n",
       "1    533\n",
       "2    278\n",
       "3     91\n",
       "4    616\n",
       "Name: count, dtype: int64"
      ]
     },
     "execution_count": 7,
     "metadata": {},
     "output_type": "execute_result"
    }
   ],
   "source": [
    "# Display the n per wave; note that 3 = waves 1 and 2, but not wave 3, & 4 = all 3 waves\n",
    "meyer['waveparticipated'].value_counts(dropna = False).sort_index()"
   ]
  },
  {
   "cell_type": "code",
   "execution_count": 8,
   "id": "a421a259-a422-4e97-b951-f08fdfa4bdf0",
   "metadata": {},
   "outputs": [
    {
     "data": {
      "text/plain": [
       "(1518, 505)"
      ]
     },
     "execution_count": 8,
     "metadata": {},
     "output_type": "execute_result"
    }
   ],
   "source": [
    "# Eliminate W2 and W3 variables from the list\n",
    "cols = list(meyer.columns)\n",
    "w1_cols = [c for c in cols if c[:2]!='w2']\n",
    "w1_cols = [c for c in w1_cols if c[:2]!='w3']\n",
    "len(w1_cols)\n",
    "\n",
    "# Drop columns\n",
    "meyer = meyer[w1_cols]\n",
    "meyer.shape"
   ]
  },
  {
   "cell_type": "markdown",
   "id": "5acc1dc8-ea66-41f3-b1f9-0d33580e91fa",
   "metadata": {},
   "source": [
    "Additionally, as described on page 17 of *37166-Documentation-methodology.pdf*, several participants identified as straight/heterosexual on the survey instrument, despite indicating that they were LGB on the screening questionaire.  Although these people likely have a more nuanced identity than either of those options can fully capture, I opted to err on the side of caution and exclude them from my analyses."
   ]
  },
  {
   "cell_type": "code",
   "execution_count": 9,
   "id": "3232d6ce-d192-431a-bbac-807816250177",
   "metadata": {},
   "outputs": [
    {
     "data": {
      "text/plain": [
       "(1507, 505)"
      ]
     },
     "execution_count": 9,
     "metadata": {},
     "output_type": "execute_result"
    }
   ],
   "source": [
    "# Exclude anyone marking themselves as straight/heterosexual\n",
    "meyer = meyer[meyer['w1sexualid']!=1]\n",
    "meyer.shape"
   ]
  },
  {
   "cell_type": "markdown",
   "id": "ffaf024f-e037-473e-8d91-7d1efceb5ddd",
   "metadata": {},
   "source": [
    "Next, I sought to eliminate the columns corresponding to items in scales, in favor of using the scale scores themselves, which were kindly already calculated and included as their own columns."
   ]
  },
  {
   "cell_type": "code",
   "execution_count": 10,
   "id": "35118d25-71fb-4b09-9146-f7914d911c27",
   "metadata": {},
   "outputs": [
    {
     "data": {
      "text/plain": [
       "100"
      ]
     },
     "execution_count": 10,
     "metadata": {},
     "output_type": "execute_result"
    }
   ],
   "source": [
    "# Make lists of the items that comprise scales\n",
    "soc_supp_items = ['w1q164a', 'w1q164b', 'w1q164c', 'w1q164d', 'w1q164e', \n",
    "  'w1q164f', 'w1q164g', 'w1q164h', 'w1q164i', 'w1q164j', 'w1q164k', 'w1q164l']\n",
    "\n",
    "ace_items = ['w1q151', 'w1q152', 'w1q153', 'w1q154', 'w1q155', \n",
    "  'w1q156', 'w1q157', 'w1q158', 'w1q159', 'w1q160', 'w1q161']\n",
    "\n",
    "childhd_gnc_items = ['w1q147', 'w1q148', 'w1q149', 'w1q150']\n",
    "\n",
    "daily_discr_items = ['w1q144a', 'w1q144b', 'w1q144c','w1q144d', \n",
    "  'w1q144e', 'w1q144f', 'w1q144g', 'w1q144h', 'w1q144i']\n",
    "\n",
    "int_homo_items = ['w1q128', 'w1q129', 'w1q130', 'w1q131', 'w1q132']\n",
    "\n",
    "felt_stigma_items = ['w1q125', 'w1q126', 'w1q127']\n",
    "\n",
    "drug_items = ['w1q90', 'w1q91', 'w1q92', 'w1q93', 'w1q94', \n",
    "  'w1q95', 'w1q96', 'w1q97', 'w1q98', 'w1q99', 'w1q100']\n",
    "\n",
    "alc_items = ['w1q85', 'w1q86', 'w1q87']\n",
    "\n",
    "hc_ster_threat_items = ['w1q60', 'w1q61', 'w1q62', 'w1q63']\n",
    "\n",
    "comm_conn_items = ['w1q53', 'w1q54', 'w1q55', 'w1q56', 'w1q57', 'w1q58', 'w1q59']\n",
    "\n",
    "lgbis_items = ['w1q40', 'w1q41', 'w1q42', 'w1q43', 'w1q44']\n",
    "\n",
    "meim_items = ['w1q21', 'w1q22', 'w1q23', 'w1q24', 'w1q25', 'w1q26']\n",
    "\n",
    "swl_items = ['w1q186', 'w1q187', 'w1q188', 'w1q189', 'w1q190']\n",
    "\n",
    "swb_items = ['w1q04', 'w1q05', 'w1q06', 'w1q07', 'w1q08', 'w1q09', 'w1q10', \n",
    "  'w1q11', 'w1q12', 'w1q13', 'w1q14', 'w1q15', 'w1q16', 'w1q17', 'w1q18']\n",
    "\n",
    "# This one is the y variable, so I'm not dropping them just yet\n",
    "ment_dis_items = ['w1q77a', 'w1q77b', 'w1q77c', 'w1q77d', 'w1q77e', 'w1q77f']\n",
    "\n",
    "# I will drop the others though\n",
    "drop_cols = (soc_supp_items + ace_items + childhd_gnc_items + daily_discr_items + \n",
    "  int_homo_items + felt_stigma_items + drug_items + alc_items + comm_conn_items + \n",
    "  hc_ster_threat_items + lgbis_items + meim_items + swl_items + swb_items)\n",
    "len(drop_cols)"
   ]
  },
  {
   "cell_type": "code",
   "execution_count": 11,
   "id": "47a3d452-f8dc-4823-bd03-d7b630cd67fe",
   "metadata": {},
   "outputs": [
    {
     "data": {
      "text/plain": [
       "(1507, 405)"
      ]
     },
     "execution_count": 11,
     "metadata": {},
     "output_type": "execute_result"
    }
   ],
   "source": [
    "# Drop the scale component columns\n",
    "meyer.drop(columns = drop_cols, inplace = True)\n",
    "meyer.shape"
   ]
  },
  {
   "cell_type": "code",
   "execution_count": 12,
   "id": "4cd1d0b1-41bf-430c-972b-b6d1be8713b9",
   "metadata": {},
   "outputs": [],
   "source": [
    "# These are the scales - more on them later\n",
    "combo_features = ['w1socialwb', 'w1socialwb_i', 'w1lifesat', 'w1lifesat_i', 'w1meim', 'w1meim_i', \n",
    "  'w1idcentral', 'w1idcentral_i', 'w1connectedness', 'w1connectedness_i', 'w1hcthreat', \n",
    "  'w1hcthreat_i', 'w1kessler6', 'w1kessler6_i', 'w1auditc', 'w1auditc_i', 'w1dudit', 'w1dudit_i', \n",
    "  'w1feltstigma', 'w1feltstigma_i', 'w1internalized', 'w1internalized_i', 'w1everyday', \n",
    "  'w1everyday_i', 'w1childgnc', 'w1childgnc_i', 'w1ace', 'w1ace_i', 'w1ace_emo', 'w1ace_emo_i', \n",
    "  'w1ace_inc', 'w1ace_inc_i', 'w1ace_ipv', 'w1ace_ipv_i', 'w1ace_men', 'w1ace_men_i', 'w1ace_phy', \n",
    "  'w1ace_phy_i', 'w1ace_sep', 'w1ace_sep_i', 'w1ace_sex', 'w1ace_sex_i', 'w1ace_sub', 'w1ace_sub_i', \n",
    "  'w1socsupport', 'w1socsupport_fam', 'w1socsupport_fam_i', 'w1socsupport_fr', 'w1socsupport_fr_i', \n",
    "  'w1socsupport_i', 'w1socsupport_so', 'w1socsupport_so_i']"
   ]
  },
  {
   "cell_type": "markdown",
   "id": "d3294124-9bb6-4b90-976a-d829f8892181",
   "metadata": {},
   "source": [
    "Keen-eyed readers may have noticed a pattern in the list above: each variable name appears twice, with `'_i'` added to the end of the second occurrence.  This is because Meyer and his team provided two versions of the computed score column for each scale - one for the original values, and one in which missing values have been imputed.  I discuss imputation - these, and my own - in the next section.\n",
    "\n",
    "Finally, before investigating any missing values, I dropped any columns that were not pertinent to my problem statement."
   ]
  },
  {
   "cell_type": "code",
   "execution_count": 13,
   "id": "a6bb854e-18d6-44cf-9db1-5ed175de3b93",
   "metadata": {},
   "outputs": [],
   "source": [
    "# Identify excess columns\n",
    "drop_cols_2 = ['gemployment2010', 'gmethod_type', 'gmethod_type_w2', 'gmethod_type_w3', 'gmilesaway',\n",
    "  'gmsaname', 'gp1', 'gp2', 'grace', 'grespondent_date_w2', 'grespondent_date_w3', 'gruca', 'gruca_i',\n",
    "  'gsurvey', 'gurban', 'gzipcode', 'gzipstate', 'nopolicecontact', 'w1cumulative_wt_nr1', \n",
    "  'w1cumulative_wt_nr2', 'w1cumulative_wt_nr3', 'w1cumulative_wt_sampling', 'w1frame_wt', 'w1hinc', \n",
    "  'w1pinc', 'w1poverty', 'w1povertycat', 'w1q02', 'w1q102', 'w1q103', 'w1q104', 'w1q106', 'w1q107', \n",
    "  'w1q108', 'w1q110', 'w1q111', 'w1q112', 'w1q115', 'w1q116', 'w1q117', 'w1q118', 'w1q120', 'w1q121',\n",
    "  'w1q122', 'w1q133', 'w1q133_1', 'w1q133_2', 'w1q133_3', 'w1q134', 'w1q165', 'w1q170_1', 'w1q170_2',\n",
    "  'w1q170_3', 'w1q170_4', 'w1q172', 'w1q173', 'w1q174', 'w1q176', 'w1q177_1', 'w1q177_10', \n",
    "  'w1q177_11', 'w1q177_12', 'w1q177_2', 'w1q177_3', 'w1q177_4', 'w1q177_5', 'w1q177_6', 'w1q177_7', \n",
    "  'w1q177_8', 'w1q177_9', 'w1q178', 'w1q182', 'w1q183', 'w1q184', 'w1q185', 'w1q20_1', 'w1q20_2', \n",
    "  'w1q20_3', 'w1q20_4', 'w1q20_5', 'w1q20_6', 'w1q20_7', 'w1q20_t_verb', 'w1q27', 'w1q28', 'w1q29', \n",
    "  'w1q29_t_verb', 'w1q31a', 'w1q31b', 'w1q31c', 'w1q31d', 'w1q39_1', 'w1q39_10', 'w1q39_11', \n",
    "  'w1q39_12', 'w1q39_2', 'w1q39_3', 'w1q39_4', 'w1q39_5', 'w1q39_6', 'w1q39_7', 'w1q39_8', 'w1q39_9',\n",
    "  'w1q39_t_verb', 'w1q45', 'w1q46', 'w1q47', 'w1q48', 'w1q49', 'w1q50', 'w1q51', 'w1q66_1', \n",
    "  'w1q66_2', 'w1q66_3', 'w1q66_4', 'w1q66_5', 'w1q66_t_verb', 'w1q67', 'w1q68_1', 'w1q68_2', \n",
    "  'w1q68_3', 'w1q70', 'w1q71', 'w1q73', 'w1q74_1', 'w1q74_12', 'w1q74_13', 'w1q74_15', 'w1q74_16', \n",
    "  'w1q74_19', 'w1q74_2', 'w1q74_3', 'w1q74_4', 'w1q74_7', 'w1q74_8', 'w1q74_9', 'w1q80', 'w1q81', \n",
    "  'w1q82', 'w1q83', 'w1q84', 'w1q88', 'w1sample', 'w1weight_orig', 'w1weighting_cell_nr1', \n",
    "  'w1weighting_cell_nr2and3', 'wave3']"
   ]
  },
  {
   "cell_type": "code",
   "execution_count": 14,
   "id": "01e771d8-a078-4bcc-8ee5-67aa8004f81e",
   "metadata": {},
   "outputs": [
    {
     "data": {
      "text/plain": [
       "(1507, 258)"
      ]
     },
     "execution_count": 14,
     "metadata": {},
     "output_type": "execute_result"
    }
   ],
   "source": [
    "meyer.drop(columns = drop_cols_2, inplace = True)\n",
    "meyer.shape"
   ]
  },
  {
   "cell_type": "markdown",
   "id": "45d2d32d-2335-4b94-8a51-00d42c70790c",
   "metadata": {},
   "source": [
    "### Missing Values and Imputation"
   ]
  },
  {
   "cell_type": "markdown",
   "id": "d349fc42-5c5d-4b61-a29a-83653fbbce26",
   "metadata": {},
   "source": [
    "Because this dataset only has about 1500 rows, I felt it important to preserve as many of them as possible.  Out of this necessity, I opted to allow a larger proportion of imputed data than I would be inclined to do if I had rows to spare.  The implications of this decision will be discussed at further length in the *Limitations* section, but suffice to say it will require me to interpret my models cautiously and conservatively.\n",
    "\n",
    "Fortunately for me, Meyer and his team used thorough, theoretically-sound methods for their imputations, inspiring confidence in me regarding the quality of the imputed data.  Where possible, they filled missing values with logical inferences based on that participant's other responses.  Where that was not possible, they predicted the missing value based on a regression of the participant's other responses, then imputed a randomly selected value from the 5 extant values nearest to that prediction.  See page 30 of *37166-Documentation-methodology.pdf* for more details."
   ]
  },
  {
   "cell_type": "markdown",
   "id": "6a92844c-e019-4538-9c6d-b1d0cf83c79d",
   "metadata": {},
   "source": [
    "Satisfied with this methodology, I was inclined to retain the imputed versions and drop the original columns.  Before doing so, however, I wanted to assess how many values had originally been missing.  Features for which a high proportion of values had to be imputed may not be suitable for modeling, and observations for which a high proportion of the Kessler items had to be imputed may also be inappropriate for use.  \n",
    "\n",
    "For all of the reasons outlined above, however, I opted not to immediately drop any features based solely on their original missing proportions, but simply to monitor their performance in the model(s) with an extra watchful eye.  I also decided to tolerate up to one imputed value among the 6 items on the Kessler scale.  However, in the interest of preserving the integrity of my target variable, I sacrificed any observations for which two or more of these items had required imputation."
   ]
  },
  {
   "cell_type": "code",
   "execution_count": 15,
   "id": "c012ff10-486f-4b60-a894-ef4656cb2526",
   "metadata": {
    "scrolled": true
   },
   "outputs": [
    {
     "data": {
      "text/html": [
       "<div>\n",
       "<style scoped>\n",
       "    .dataframe tbody tr th:only-of-type {\n",
       "        vertical-align: middle;\n",
       "    }\n",
       "\n",
       "    .dataframe tbody tr th {\n",
       "        vertical-align: top;\n",
       "    }\n",
       "\n",
       "    .dataframe thead th {\n",
       "        text-align: right;\n",
       "    }\n",
       "</style>\n",
       "<table border=\"1\" class=\"dataframe\">\n",
       "  <thead>\n",
       "    <tr style=\"text-align: right;\">\n",
       "      <th></th>\n",
       "      <th>w1q77a</th>\n",
       "      <th>w1q77b</th>\n",
       "      <th>w1q77c</th>\n",
       "      <th>w1q77d</th>\n",
       "      <th>w1q77e</th>\n",
       "      <th>w1q77f</th>\n",
       "      <th>w1kessler6</th>\n",
       "      <th>w1kessler6_i</th>\n",
       "      <th>studyid</th>\n",
       "    </tr>\n",
       "  </thead>\n",
       "  <tbody>\n",
       "    <tr>\n",
       "      <th>39</th>\n",
       "      <td>NaN</td>\n",
       "      <td>NaN</td>\n",
       "      <td>NaN</td>\n",
       "      <td>NaN</td>\n",
       "      <td>NaN</td>\n",
       "      <td>NaN</td>\n",
       "      <td>NaN</td>\n",
       "      <td>1</td>\n",
       "      <td>151876818</td>\n",
       "    </tr>\n",
       "    <tr>\n",
       "      <th>50</th>\n",
       "      <td>1.0</td>\n",
       "      <td>NaN</td>\n",
       "      <td>NaN</td>\n",
       "      <td>NaN</td>\n",
       "      <td>NaN</td>\n",
       "      <td>NaN</td>\n",
       "      <td>NaN</td>\n",
       "      <td>9</td>\n",
       "      <td>152304751</td>\n",
       "    </tr>\n",
       "    <tr>\n",
       "      <th>96</th>\n",
       "      <td>5.0</td>\n",
       "      <td>5.0</td>\n",
       "      <td>NaN</td>\n",
       "      <td>4.0</td>\n",
       "      <td>3.0</td>\n",
       "      <td>4.0</td>\n",
       "      <td>NaN</td>\n",
       "      <td>4</td>\n",
       "      <td>152640441</td>\n",
       "    </tr>\n",
       "    <tr>\n",
       "      <th>155</th>\n",
       "      <td>5.0</td>\n",
       "      <td>NaN</td>\n",
       "      <td>5.0</td>\n",
       "      <td>4.0</td>\n",
       "      <td>5.0</td>\n",
       "      <td>5.0</td>\n",
       "      <td>NaN</td>\n",
       "      <td>3</td>\n",
       "      <td>153039829</td>\n",
       "    </tr>\n",
       "    <tr>\n",
       "      <th>214</th>\n",
       "      <td>NaN</td>\n",
       "      <td>NaN</td>\n",
       "      <td>NaN</td>\n",
       "      <td>NaN</td>\n",
       "      <td>NaN</td>\n",
       "      <td>NaN</td>\n",
       "      <td>NaN</td>\n",
       "      <td>0</td>\n",
       "      <td>153390973</td>\n",
       "    </tr>\n",
       "    <tr>\n",
       "      <th>227</th>\n",
       "      <td>NaN</td>\n",
       "      <td>NaN</td>\n",
       "      <td>NaN</td>\n",
       "      <td>NaN</td>\n",
       "      <td>NaN</td>\n",
       "      <td>NaN</td>\n",
       "      <td>NaN</td>\n",
       "      <td>9</td>\n",
       "      <td>153535970</td>\n",
       "    </tr>\n",
       "    <tr>\n",
       "      <th>415</th>\n",
       "      <td>NaN</td>\n",
       "      <td>NaN</td>\n",
       "      <td>NaN</td>\n",
       "      <td>NaN</td>\n",
       "      <td>NaN</td>\n",
       "      <td>NaN</td>\n",
       "      <td>NaN</td>\n",
       "      <td>8</td>\n",
       "      <td>154944576</td>\n",
       "    </tr>\n",
       "    <tr>\n",
       "      <th>447</th>\n",
       "      <td>1.0</td>\n",
       "      <td>NaN</td>\n",
       "      <td>3.0</td>\n",
       "      <td>3.0</td>\n",
       "      <td>4.0</td>\n",
       "      <td>2.0</td>\n",
       "      <td>NaN</td>\n",
       "      <td>16</td>\n",
       "      <td>155106769</td>\n",
       "    </tr>\n",
       "    <tr>\n",
       "      <th>457</th>\n",
       "      <td>NaN</td>\n",
       "      <td>NaN</td>\n",
       "      <td>NaN</td>\n",
       "      <td>NaN</td>\n",
       "      <td>NaN</td>\n",
       "      <td>NaN</td>\n",
       "      <td>NaN</td>\n",
       "      <td>12</td>\n",
       "      <td>155163167</td>\n",
       "    </tr>\n",
       "    <tr>\n",
       "      <th>577</th>\n",
       "      <td>NaN</td>\n",
       "      <td>NaN</td>\n",
       "      <td>NaN</td>\n",
       "      <td>NaN</td>\n",
       "      <td>NaN</td>\n",
       "      <td>NaN</td>\n",
       "      <td>NaN</td>\n",
       "      <td>2</td>\n",
       "      <td>155814388</td>\n",
       "    </tr>\n",
       "    <tr>\n",
       "      <th>648</th>\n",
       "      <td>3.0</td>\n",
       "      <td>5.0</td>\n",
       "      <td>4.0</td>\n",
       "      <td>5.0</td>\n",
       "      <td>NaN</td>\n",
       "      <td>5.0</td>\n",
       "      <td>NaN</td>\n",
       "      <td>4</td>\n",
       "      <td>156224369</td>\n",
       "    </tr>\n",
       "    <tr>\n",
       "      <th>677</th>\n",
       "      <td>1.0</td>\n",
       "      <td>1.0</td>\n",
       "      <td>NaN</td>\n",
       "      <td>3.0</td>\n",
       "      <td>3.0</td>\n",
       "      <td>1.0</td>\n",
       "      <td>NaN</td>\n",
       "      <td>20</td>\n",
       "      <td>156345609</td>\n",
       "    </tr>\n",
       "    <tr>\n",
       "      <th>820</th>\n",
       "      <td>4.0</td>\n",
       "      <td>NaN</td>\n",
       "      <td>4.0</td>\n",
       "      <td>3.0</td>\n",
       "      <td>4.0</td>\n",
       "      <td>5.0</td>\n",
       "      <td>NaN</td>\n",
       "      <td>5</td>\n",
       "      <td>157670785</td>\n",
       "    </tr>\n",
       "    <tr>\n",
       "      <th>866</th>\n",
       "      <td>3.0</td>\n",
       "      <td>NaN</td>\n",
       "      <td>4.0</td>\n",
       "      <td>4.0</td>\n",
       "      <td>NaN</td>\n",
       "      <td>NaN</td>\n",
       "      <td>NaN</td>\n",
       "      <td>6</td>\n",
       "      <td>158132069</td>\n",
       "    </tr>\n",
       "    <tr>\n",
       "      <th>943</th>\n",
       "      <td>NaN</td>\n",
       "      <td>NaN</td>\n",
       "      <td>NaN</td>\n",
       "      <td>NaN</td>\n",
       "      <td>NaN</td>\n",
       "      <td>NaN</td>\n",
       "      <td>NaN</td>\n",
       "      <td>12</td>\n",
       "      <td>159311507</td>\n",
       "    </tr>\n",
       "    <tr>\n",
       "      <th>964</th>\n",
       "      <td>2.0</td>\n",
       "      <td>NaN</td>\n",
       "      <td>3.0</td>\n",
       "      <td>NaN</td>\n",
       "      <td>NaN</td>\n",
       "      <td>NaN</td>\n",
       "      <td>NaN</td>\n",
       "      <td>7</td>\n",
       "      <td>159770206</td>\n",
       "    </tr>\n",
       "    <tr>\n",
       "      <th>1090</th>\n",
       "      <td>3.0</td>\n",
       "      <td>5.0</td>\n",
       "      <td>3.0</td>\n",
       "      <td>5.0</td>\n",
       "      <td>NaN</td>\n",
       "      <td>5.0</td>\n",
       "      <td>NaN</td>\n",
       "      <td>5</td>\n",
       "      <td>162335772</td>\n",
       "    </tr>\n",
       "    <tr>\n",
       "      <th>1096</th>\n",
       "      <td>3.0</td>\n",
       "      <td>3.0</td>\n",
       "      <td>2.0</td>\n",
       "      <td>NaN</td>\n",
       "      <td>3.0</td>\n",
       "      <td>2.0</td>\n",
       "      <td>NaN</td>\n",
       "      <td>15</td>\n",
       "      <td>162373382</td>\n",
       "    </tr>\n",
       "    <tr>\n",
       "      <th>1113</th>\n",
       "      <td>NaN</td>\n",
       "      <td>NaN</td>\n",
       "      <td>NaN</td>\n",
       "      <td>NaN</td>\n",
       "      <td>NaN</td>\n",
       "      <td>NaN</td>\n",
       "      <td>NaN</td>\n",
       "      <td>16</td>\n",
       "      <td>162548926</td>\n",
       "    </tr>\n",
       "    <tr>\n",
       "      <th>1159</th>\n",
       "      <td>NaN</td>\n",
       "      <td>NaN</td>\n",
       "      <td>NaN</td>\n",
       "      <td>NaN</td>\n",
       "      <td>NaN</td>\n",
       "      <td>NaN</td>\n",
       "      <td>NaN</td>\n",
       "      <td>4</td>\n",
       "      <td>162982357</td>\n",
       "    </tr>\n",
       "    <tr>\n",
       "      <th>1265</th>\n",
       "      <td>3.0</td>\n",
       "      <td>3.0</td>\n",
       "      <td>3.0</td>\n",
       "      <td>5.0</td>\n",
       "      <td>NaN</td>\n",
       "      <td>5.0</td>\n",
       "      <td>NaN</td>\n",
       "      <td>8</td>\n",
       "      <td>164454095</td>\n",
       "    </tr>\n",
       "    <tr>\n",
       "      <th>1272</th>\n",
       "      <td>2.0</td>\n",
       "      <td>NaN</td>\n",
       "      <td>3.0</td>\n",
       "      <td>4.0</td>\n",
       "      <td>4.0</td>\n",
       "      <td>5.0</td>\n",
       "      <td>NaN</td>\n",
       "      <td>9</td>\n",
       "      <td>164556482</td>\n",
       "    </tr>\n",
       "    <tr>\n",
       "      <th>1344</th>\n",
       "      <td>5.0</td>\n",
       "      <td>NaN</td>\n",
       "      <td>5.0</td>\n",
       "      <td>5.0</td>\n",
       "      <td>5.0</td>\n",
       "      <td>5.0</td>\n",
       "      <td>NaN</td>\n",
       "      <td>0</td>\n",
       "      <td>167022959</td>\n",
       "    </tr>\n",
       "    <tr>\n",
       "      <th>1359</th>\n",
       "      <td>NaN</td>\n",
       "      <td>NaN</td>\n",
       "      <td>NaN</td>\n",
       "      <td>NaN</td>\n",
       "      <td>NaN</td>\n",
       "      <td>NaN</td>\n",
       "      <td>NaN</td>\n",
       "      <td>6</td>\n",
       "      <td>167341434</td>\n",
       "    </tr>\n",
       "    <tr>\n",
       "      <th>1472</th>\n",
       "      <td>3.0</td>\n",
       "      <td>NaN</td>\n",
       "      <td>3.0</td>\n",
       "      <td>2.0</td>\n",
       "      <td>3.0</td>\n",
       "      <td>2.0</td>\n",
       "      <td>NaN</td>\n",
       "      <td>15</td>\n",
       "      <td>173409447</td>\n",
       "    </tr>\n",
       "    <tr>\n",
       "      <th>1505</th>\n",
       "      <td>5.0</td>\n",
       "      <td>3.0</td>\n",
       "      <td>1.0</td>\n",
       "      <td>2.0</td>\n",
       "      <td>NaN</td>\n",
       "      <td>2.0</td>\n",
       "      <td>NaN</td>\n",
       "      <td>16</td>\n",
       "      <td>175457423</td>\n",
       "    </tr>\n",
       "  </tbody>\n",
       "</table>\n",
       "</div>"
      ],
      "text/plain": [
       "      w1q77a  w1q77b  w1q77c  w1q77d  w1q77e  w1q77f  w1kessler6  \\\n",
       "39       NaN     NaN     NaN     NaN     NaN     NaN         NaN   \n",
       "50       1.0     NaN     NaN     NaN     NaN     NaN         NaN   \n",
       "96       5.0     5.0     NaN     4.0     3.0     4.0         NaN   \n",
       "155      5.0     NaN     5.0     4.0     5.0     5.0         NaN   \n",
       "214      NaN     NaN     NaN     NaN     NaN     NaN         NaN   \n",
       "227      NaN     NaN     NaN     NaN     NaN     NaN         NaN   \n",
       "415      NaN     NaN     NaN     NaN     NaN     NaN         NaN   \n",
       "447      1.0     NaN     3.0     3.0     4.0     2.0         NaN   \n",
       "457      NaN     NaN     NaN     NaN     NaN     NaN         NaN   \n",
       "577      NaN     NaN     NaN     NaN     NaN     NaN         NaN   \n",
       "648      3.0     5.0     4.0     5.0     NaN     5.0         NaN   \n",
       "677      1.0     1.0     NaN     3.0     3.0     1.0         NaN   \n",
       "820      4.0     NaN     4.0     3.0     4.0     5.0         NaN   \n",
       "866      3.0     NaN     4.0     4.0     NaN     NaN         NaN   \n",
       "943      NaN     NaN     NaN     NaN     NaN     NaN         NaN   \n",
       "964      2.0     NaN     3.0     NaN     NaN     NaN         NaN   \n",
       "1090     3.0     5.0     3.0     5.0     NaN     5.0         NaN   \n",
       "1096     3.0     3.0     2.0     NaN     3.0     2.0         NaN   \n",
       "1113     NaN     NaN     NaN     NaN     NaN     NaN         NaN   \n",
       "1159     NaN     NaN     NaN     NaN     NaN     NaN         NaN   \n",
       "1265     3.0     3.0     3.0     5.0     NaN     5.0         NaN   \n",
       "1272     2.0     NaN     3.0     4.0     4.0     5.0         NaN   \n",
       "1344     5.0     NaN     5.0     5.0     5.0     5.0         NaN   \n",
       "1359     NaN     NaN     NaN     NaN     NaN     NaN         NaN   \n",
       "1472     3.0     NaN     3.0     2.0     3.0     2.0         NaN   \n",
       "1505     5.0     3.0     1.0     2.0     NaN     2.0         NaN   \n",
       "\n",
       "      w1kessler6_i    studyid  \n",
       "39               1  151876818  \n",
       "50               9  152304751  \n",
       "96               4  152640441  \n",
       "155              3  153039829  \n",
       "214              0  153390973  \n",
       "227              9  153535970  \n",
       "415              8  154944576  \n",
       "447             16  155106769  \n",
       "457             12  155163167  \n",
       "577              2  155814388  \n",
       "648              4  156224369  \n",
       "677             20  156345609  \n",
       "820              5  157670785  \n",
       "866              6  158132069  \n",
       "943             12  159311507  \n",
       "964              7  159770206  \n",
       "1090             5  162335772  \n",
       "1096            15  162373382  \n",
       "1113            16  162548926  \n",
       "1159             4  162982357  \n",
       "1265             8  164454095  \n",
       "1272             9  164556482  \n",
       "1344             0  167022959  \n",
       "1359             6  167341434  \n",
       "1472            15  173409447  \n",
       "1505            16  175457423  "
      ]
     },
     "execution_count": 15,
     "metadata": {},
     "output_type": "execute_result"
    }
   ],
   "source": [
    "# Create a subsetted dataframe to identify any rows to drop\n",
    "meyer_kessler = meyer[ment_dis_items + ['w1kessler6', 'w1kessler6_i', 'studyid']]\n",
    "# The original scale score column was NA wherever any items were NA\n",
    "meyer_kessler = meyer_kessler[meyer_kessler['w1kessler6'].isna()]\n",
    "meyer_kessler"
   ]
  },
  {
   "cell_type": "code",
   "execution_count": 16,
   "id": "a43dddf3-3801-45da-b4ad-064b48de833b",
   "metadata": {},
   "outputs": [
    {
     "data": {
      "text/plain": [
       "(1494, 258)"
      ]
     },
     "execution_count": 16,
     "metadata": {},
     "output_type": "execute_result"
    }
   ],
   "source": [
    "# Extract the index numbers of rows with 2+ NAs\n",
    "\n",
    "# Get the unique identifier\n",
    "drop_rows = []\n",
    "for i in meyer_kessler.index:\n",
    "  if meyer_kessler.loc[i, ment_dis_items].isna().sum() > 1:\n",
    "    drop_rows.append(meyer_kessler.loc[i, 'studyid'])\n",
    "\n",
    "# Get the matching index number from the full dataframe\n",
    "drop_index = []\n",
    "for i in drop_rows:\n",
    "  drop_index.append(meyer[meyer['studyid']==i].index[0])\n",
    "\n",
    "# Drop those rows\n",
    "meyer.drop(index = drop_index, inplace = True)\n",
    "meyer.shape"
   ]
  },
  {
   "cell_type": "code",
   "execution_count": 17,
   "id": "fc2b189e-4745-4d1f-97c4-b51d4c155f32",
   "metadata": {},
   "outputs": [
    {
     "data": {
      "text/html": [
       "<div>\n",
       "<style scoped>\n",
       "    .dataframe tbody tr th:only-of-type {\n",
       "        vertical-align: middle;\n",
       "    }\n",
       "\n",
       "    .dataframe tbody tr th {\n",
       "        vertical-align: top;\n",
       "    }\n",
       "\n",
       "    .dataframe thead th {\n",
       "        text-align: right;\n",
       "    }\n",
       "</style>\n",
       "<table border=\"1\" class=\"dataframe\">\n",
       "  <thead>\n",
       "    <tr style=\"text-align: right;\">\n",
       "      <th></th>\n",
       "      <th>studyid</th>\n",
       "      <th>waveparticipated</th>\n",
       "      <th>w1weight_full</th>\n",
       "      <th>w1survey_yr</th>\n",
       "      <th>cohort</th>\n",
       "      <th>geduc1</th>\n",
       "      <th>geduc2</th>\n",
       "      <th>geducation</th>\n",
       "      <th>gurban_i</th>\n",
       "      <th>gcendiv</th>\n",
       "      <th>...</th>\n",
       "      <th>w1socialwb</th>\n",
       "      <th>w1socialwb_i</th>\n",
       "      <th>w1socsupport</th>\n",
       "      <th>w1socsupport_fam</th>\n",
       "      <th>w1socsupport_fam_i</th>\n",
       "      <th>w1socsupport_fr</th>\n",
       "      <th>w1socsupport_fr_i</th>\n",
       "      <th>w1socsupport_i</th>\n",
       "      <th>w1socsupport_so</th>\n",
       "      <th>w1socsupport_so_i</th>\n",
       "    </tr>\n",
       "  </thead>\n",
       "  <tbody>\n",
       "    <tr>\n",
       "      <th>0</th>\n",
       "      <td>151339842</td>\n",
       "      <td>4</td>\n",
       "      <td>0.309003</td>\n",
       "      <td>2016</td>\n",
       "      <td>3</td>\n",
       "      <td>3</td>\n",
       "      <td>2</td>\n",
       "      <td>5</td>\n",
       "      <td>1</td>\n",
       "      <td>1</td>\n",
       "      <td>...</td>\n",
       "      <td>5.4</td>\n",
       "      <td>5.400000</td>\n",
       "      <td>4.916667</td>\n",
       "      <td>5.0</td>\n",
       "      <td>5.0</td>\n",
       "      <td>5.00</td>\n",
       "      <td>5.00</td>\n",
       "      <td>4.916667</td>\n",
       "      <td>4.75</td>\n",
       "      <td>4.75</td>\n",
       "    </tr>\n",
       "    <tr>\n",
       "      <th>1</th>\n",
       "      <td>151351600</td>\n",
       "      <td>2</td>\n",
       "      <td>0.931862</td>\n",
       "      <td>2016</td>\n",
       "      <td>2</td>\n",
       "      <td>2</td>\n",
       "      <td>2</td>\n",
       "      <td>4</td>\n",
       "      <td>1</td>\n",
       "      <td>7</td>\n",
       "      <td>...</td>\n",
       "      <td>4.2</td>\n",
       "      <td>4.200000</td>\n",
       "      <td>5.916667</td>\n",
       "      <td>6.0</td>\n",
       "      <td>6.0</td>\n",
       "      <td>5.75</td>\n",
       "      <td>5.75</td>\n",
       "      <td>5.916667</td>\n",
       "      <td>6.00</td>\n",
       "      <td>6.00</td>\n",
       "    </tr>\n",
       "    <tr>\n",
       "      <th>2</th>\n",
       "      <td>151396232</td>\n",
       "      <td>1</td>\n",
       "      <td>0.656089</td>\n",
       "      <td>2016</td>\n",
       "      <td>2</td>\n",
       "      <td>3</td>\n",
       "      <td>2</td>\n",
       "      <td>5</td>\n",
       "      <td>1</td>\n",
       "      <td>4</td>\n",
       "      <td>...</td>\n",
       "      <td>NaN</td>\n",
       "      <td>5.466667</td>\n",
       "      <td>7.000000</td>\n",
       "      <td>7.0</td>\n",
       "      <td>7.0</td>\n",
       "      <td>7.00</td>\n",
       "      <td>7.00</td>\n",
       "      <td>7.000000</td>\n",
       "      <td>7.00</td>\n",
       "      <td>7.00</td>\n",
       "    </tr>\n",
       "  </tbody>\n",
       "</table>\n",
       "<p>3 rows × 258 columns</p>\n",
       "</div>"
      ],
      "text/plain": [
       "     studyid  waveparticipated  w1weight_full  w1survey_yr  cohort  geduc1  \\\n",
       "0  151339842                 4       0.309003         2016       3       3   \n",
       "1  151351600                 2       0.931862         2016       2       2   \n",
       "2  151396232                 1       0.656089         2016       2       3   \n",
       "\n",
       "   geduc2  geducation  gurban_i  gcendiv  ...  w1socialwb  w1socialwb_i  \\\n",
       "0       2           5         1        1  ...         5.4      5.400000   \n",
       "1       2           4         1        7  ...         4.2      4.200000   \n",
       "2       2           5         1        4  ...         NaN      5.466667   \n",
       "\n",
       "   w1socsupport  w1socsupport_fam  w1socsupport_fam_i  w1socsupport_fr  \\\n",
       "0      4.916667               5.0                 5.0             5.00   \n",
       "1      5.916667               6.0                 6.0             5.75   \n",
       "2      7.000000               7.0                 7.0             7.00   \n",
       "\n",
       "   w1socsupport_fr_i  w1socsupport_i  w1socsupport_so  w1socsupport_so_i  \n",
       "0               5.00        4.916667             4.75               4.75  \n",
       "1               5.75        5.916667             6.00               6.00  \n",
       "2               7.00        7.000000             7.00               7.00  \n",
       "\n",
       "[3 rows x 258 columns]"
      ]
     },
     "execution_count": 17,
     "metadata": {},
     "output_type": "execute_result"
    }
   ],
   "source": [
    "# Reset the index (thanks to pandas documentation for this syntax)\n",
    "meyer.reset_index(drop = True, inplace = True)\n",
    "meyer.head(3)"
   ]
  },
  {
   "cell_type": "code",
   "execution_count": 18,
   "id": "9433ad42-133d-4a8b-8c50-c59385007152",
   "metadata": {},
   "outputs": [
    {
     "data": {
      "text/plain": [
       "(1494, 252)"
      ]
     },
     "execution_count": 18,
     "metadata": {},
     "output_type": "execute_result"
    }
   ],
   "source": [
    "# Drop the individual scale items\n",
    "meyer.drop(columns = ment_dis_items, inplace = True)\n",
    "meyer.shape"
   ]
  },
  {
   "cell_type": "markdown",
   "id": "4babd3c0-45ff-4b76-b63c-2a66fb0373fc",
   "metadata": {},
   "source": [
    "With those rows removed, I next assessed the missing values in the non-imputed scale score columns."
   ]
  },
  {
   "cell_type": "code",
   "execution_count": 19,
   "id": "ac0a97cd-5d3e-48b2-a49b-d33975f8ebd7",
   "metadata": {
    "scrolled": true
   },
   "outputs": [
    {
     "data": {
      "text/plain": [
       "w1ace                 267\n",
       "w1ace_ipv             130\n",
       "w1ace_emo              83\n",
       "w1ace_sex              69\n",
       "w1dudit                56\n",
       "w1ace_phy              54\n",
       "w1socialwb             51\n",
       "w1connectedness        39\n",
       "w1socsupport           37\n",
       "w1everyday             31\n",
       "w1meim                 22\n",
       "w1socsupport_fr        22\n",
       "w1socsupport_fam       21\n",
       "w1socsupport_so        20\n",
       "w1lifesat              19\n",
       "w1internalized         19\n",
       "w1hcthreat             16\n",
       "w1ace_inc              16\n",
       "w1ace_sub              15\n",
       "w1ace_men              14\n",
       "w1idcentral            14\n",
       "w1kessler6             13\n",
       "w1ace_sep              10\n",
       "w1feltstigma            8\n",
       "w1auditc                6\n",
       "w1ace_men_i             0\n",
       "w1socsupport_fam_i      0\n",
       "w1ace_sub_i             0\n",
       "w1ace_sex_i             0\n",
       "w1ace_sep_i             0\n",
       "w1socsupport_fr_i       0\n",
       "w1ace_phy_i             0\n",
       "w1socsupport_i          0\n",
       "w1lifesat_i             0\n",
       "w1idcentral_i           0\n",
       "w1ace_emo_i             0\n",
       "w1ace_ipv_i             0\n",
       "w1ace_inc_i             0\n",
       "w1meim_i                0\n",
       "w1ace_i                 0\n",
       "w1socialwb_i            0\n",
       "w1childgnc_i            0\n",
       "w1childgnc              0\n",
       "w1everyday_i            0\n",
       "w1internalized_i        0\n",
       "w1feltstigma_i          0\n",
       "w1dudit_i               0\n",
       "w1auditc_i              0\n",
       "w1kessler6_i            0\n",
       "w1hcthreat_i            0\n",
       "w1connectedness_i       0\n",
       "w1socsupport_so_i       0\n",
       "dtype: int64"
      ]
     },
     "execution_count": 19,
     "metadata": {},
     "output_type": "execute_result"
    }
   ],
   "source": [
    "meyer[combo_features].isna().sum().sort_values(ascending = False)"
   ]
  },
  {
   "cell_type": "markdown",
   "id": "0e055c9d-bd21-4d33-b7f2-70c25e916ed0",
   "metadata": {},
   "source": [
    "As mentioned above, I was impressed enough by the original author's imputation methods to not drop any of these features over their missing values alone.  However, quite a few columns had troublingly high numbers of missing values.  Those with approximately 1% missing data or more are displayed below."
   ]
  },
  {
   "cell_type": "markdown",
   "id": "c291ad75-cc83-472d-9dcf-b2d95c7e01f6",
   "metadata": {},
   "source": [
    "|Variable Name| Missing Values|Variable Name| Missing Values|Variable Name| Missing Values|\n",
    "|--|--|--|--|--|--|\n",
    "|w1ace        |267 |w1connectedness  | 39 |w1lifesat       | 19 |\n",
    "|w1ace_ipv    |130 |w1socsupport     | 37 |w1internalized  | 19 |\n",
    "|w1ace_emo    | 83 |w1everyday       | 31 |w1hcthreat      | 16 |\n",
    "|w1ace_sex    | 69 |w1meim           | 22 |w1ace_inc       | 16 |\n",
    "|w1dudit      | 56 |w1socsupport_fr  | 22 |w1ace_sub       | 15 |\n",
    "|w1ace_phy    | 54 |w1socsupport_fam | 21 |w1ace_men       | 14 |\n",
    "|w1socialwb   | 51 |w1socsupport_so  | 20 |w1idcentral     | 14 |"
   ]
  },
  {
   "cell_type": "markdown",
   "id": "bcb37020-a1bb-4f16-95f5-0f8f6cbb7bbf",
   "metadata": {},
   "source": [
    "As can be seen above, many of the scale scores have large numbers of missing values.  The implications of this will be discussed in the *Limitations* section, but in the interest of not sacrificing too much data, I went forward with my plan to drop these original columns and use the imputed versions."
   ]
  },
  {
   "cell_type": "code",
   "execution_count": 20,
   "id": "20aeef4f-241c-4806-a4b1-58d94f3434c2",
   "metadata": {},
   "outputs": [
    {
     "data": {
      "text/plain": [
       "(1494, 226)"
      ]
     },
     "execution_count": 20,
     "metadata": {},
     "output_type": "execute_result"
    }
   ],
   "source": [
    "# Divide that combination list between imputed and not\n",
    "combo_imputed = [c for c in combo_features if c[-2:]=='_i']\n",
    "combo_not_imputed = [c for c in combo_features if c[-2:]!='_i']\n",
    "\n",
    "# Drop the ones that aren't\n",
    "meyer.drop(columns = combo_not_imputed, inplace = True)\n",
    "meyer.shape"
   ]
  },
  {
   "cell_type": "markdown",
   "id": "241d9258-f543-4f78-8677-258f2deb53d3",
   "metadata": {},
   "source": [
    "Although many of the scale scores came pre-imputed, other variables did not.  I imputed these variables myself.  I chose to use the entire dataset for this, prior to the train test split, because my primary interest lies in an inferential model.  This means that it is less crucial that my workflow and model be generalizable to new data gathered in the future.  Furthermore, because this data concerns sensitive personal and political issues, the median or mode responses will likely change over time if the survey were to be readministered, certainly over a long enough timeframe.  (Note: The obvious implications of this temporal drift for a 2016 dataset will be further discussed in the *Limitations* and *Recommendations* sections.)  It would be entirely illogical to fit the imputer on a subset of data from 2016 and then continue projecting those values forward into new data indefinitely.  Therefore, I prioritized fidelity to the current data over adaptability to hypothetical future data, and calculated/fit the imputation values on my entire dataset."
   ]
  },
  {
   "cell_type": "code",
   "execution_count": 21,
   "id": "9f9188bc-b82c-47df-a732-789553f69769",
   "metadata": {
    "scrolled": true
   },
   "outputs": [
    {
     "data": {
      "text/plain": [
       "w1q64_12              1494\n",
       "w1q64_5               1483\n",
       "w1q74_6               1481\n",
       "w1q74_5               1480\n",
       "w1q74_20              1475\n",
       "w1q64_11              1474\n",
       "w1q64_10              1470\n",
       "w1q74_18              1467\n",
       "w1q74_14              1463\n",
       "w1q74_17              1460\n",
       "w1q64_13              1451\n",
       "w1q171_8              1451\n",
       "w1q30_3               1450\n",
       "w1q64_t_verb          1449\n",
       "w1q64_7               1448\n",
       "w1q30_4               1445\n",
       "w1q171_6              1442\n",
       "w1q171_4              1440\n",
       "w1q64_8               1423\n",
       "w1q74_10              1419\n",
       "w1q74_21              1417\n",
       "w1q74_11              1409\n",
       "w1q171_5              1406\n",
       "w1q64_6               1405\n",
       "w1q64_3               1393\n",
       "w1q64_1               1375\n",
       "w1q171_9              1362\n",
       "w1q30_5               1339\n",
       "w1q171_3              1320\n",
       "w1q74_22              1309\n",
       "w1q64_9               1305\n",
       "w1q145_3              1297\n",
       "w1q163_3              1264\n",
       "w1q136_3              1260\n",
       "w1q145_9              1227\n",
       "w1q171_2              1222\n",
       "w1q143_3              1213\n",
       "w1q136_10             1212\n",
       "w1q145_10             1205\n",
       "w1q136_9              1201\n",
       "w1q163_10             1200\n",
       "w1q163_9              1193\n",
       "w1q143_9              1179\n",
       "w1q171_7              1167\n",
       "w1q74_23              1155\n",
       "w1q143_4              1151\n",
       "w1q136_6              1134\n",
       "w1q143_10             1132\n",
       "w1q143_5              1124\n",
       "w1q64_4               1110\n",
       "w1q145_4              1098\n",
       "w1q136_5              1095\n",
       "w1q143_8              1093\n",
       "w1q163_5              1089\n",
       "w1q136_4              1074\n",
       "w1q163_6              1073\n",
       "w1q145_6              1065\n",
       "w1q136_1              1063\n",
       "w1q143_7              1039\n",
       "w1q163_1              1034\n",
       "w1q143_2              1030\n",
       "w1q143_1              1022\n",
       "w1q145_5              1015\n",
       "w1q143_6              1009\n",
       "w1q163_2               967\n",
       "w1q64_2                961\n",
       "w1q163_4               960\n",
       "w1q136_8               930\n",
       "w1q145_8               927\n",
       "w1q145_1               914\n",
       "w1q145_7               883\n",
       "w1q163_7               872\n",
       "w1q136_2               872\n",
       "w1q145_2               844\n",
       "w1q30_1                828\n",
       "w1q171_1               798\n",
       "w1q139_3               759\n",
       "w1q136_7               755\n",
       "w1q139_9               737\n",
       "w1q139_10              694\n",
       "w1q139_5               693\n",
       "w1q139_4               690\n",
       "w1q139_8               668\n",
       "w1q139_6               666\n",
       "w1q139_2               626\n",
       "w1q139_1               620\n",
       "w1q139_7               588\n",
       "w1q163_8               517\n",
       "w1q30_2                495\n",
       "w1q141_3               123\n",
       "w1q141_9               123\n",
       "w1q141_8               121\n",
       "w1q141_10              121\n",
       "w1q141_4               119\n",
       "w1q141_5               118\n",
       "w1q141_1               117\n",
       "w1q141_2               116\n",
       "w1q141_7               114\n",
       "w1q141_6               110\n",
       "w1q03                   39\n",
       "w1q175                  36\n",
       "w1q19c                  21\n",
       "w1povertycat_i          20\n",
       "w1poverty_i             20\n",
       "w1q72                   19\n",
       "w1q179                  18\n",
       "gmilesaway2             18\n",
       "w1q142d                 16\n",
       "w1q119                  16\n",
       "w1q146d                 16\n",
       "w1q109                  16\n",
       "w1q180                  15\n",
       "w1q166                  15\n",
       "w1q167                  15\n",
       "w1q19d                  15\n",
       "w1q52                   14\n",
       "w1q181                  13\n",
       "w1q75                   13\n",
       "w1q162                  13\n",
       "w1q142i                 13\n",
       "w1q142g                 13\n",
       "w1q65                   12\n",
       "w1q142h                 11\n",
       "w1q69                   11\n",
       "w1q135d                 11\n",
       "w1q146c                 11\n",
       "w1q78                   11\n",
       "w1q146f                 10\n",
       "w1q19b                  10\n",
       "w1q146g                 10\n",
       "w1q32                   10\n",
       "w1q105                  10\n",
       "w1q169                  10\n",
       "w1q142j                 10\n",
       "w1q142f                 10\n",
       "w1q142e                 10\n",
       "w1q168                  10\n",
       "w1q142b                 10\n",
       "w1q138                   9\n",
       "w1q135b                  9\n",
       "w1q140                   9\n",
       "w1q146e                  9\n",
       "w1q123d                  9\n",
       "w1q137                   9\n",
       "w1q19a                   9\n",
       "w1q142a                  9\n",
       "w1q142k                  9\n",
       "w1q146l                  9\n",
       "w1q113                   9\n",
       "w1q135e                  9\n",
       "w1q135c                  9\n",
       "w1q146j                  8\n",
       "w1q146k                  8\n",
       "w1q101                   8\n",
       "w1q146i                  8\n",
       "w1q76                    8\n",
       "w1q146a                  8\n",
       "w1q33                    7\n",
       "w1q01                    7\n",
       "w1q146b                  7\n",
       "w1q135f                  7\n",
       "w1q146h                  7\n",
       "w1q79                    7\n",
       "w1q142c                  7\n",
       "w1q123c                  7\n",
       "w1q135a                  6\n",
       "w1q37                    5\n",
       "w1q123a                  5\n",
       "w1q124                   5\n",
       "w1q123b                  4\n",
       "w1q35                    3\n",
       "w1q38                    3\n",
       "w1q36                    2\n",
       "w1q89                    2\n",
       "w1q114                   2\n",
       "w1q34                    1\n",
       "w1ace_sep_i              0\n",
       "w1ace_sex_i              0\n",
       "w1ace_sub_i              0\n",
       "w1auditc_i               0\n",
       "w1ace_phy_i              0\n",
       "w1ace_emo_i              0\n",
       "w1dudit_i                0\n",
       "w1ace_men_i              0\n",
       "w1ace_ipv_i              0\n",
       "w1childgnc_i             0\n",
       "w1connectedness_i        0\n",
       "w1socsupport_i           0\n",
       "w1everyday_i             0\n",
       "w1feltstigma_i           0\n",
       "w1socsupport_fr_i        0\n",
       "w1socsupport_fam_i       0\n",
       "w1socialwb_i             0\n",
       "w1meim_i                 0\n",
       "w1lifesat_i              0\n",
       "w1kessler6_i             0\n",
       "w1internalized_i         0\n",
       "w1idcentral_i            0\n",
       "w1hcthreat_i             0\n",
       "w1ace_inc_i              0\n",
       "studyid                  0\n",
       "w1ace_i                  0\n",
       "screen_race              0\n",
       "w1weight_full            0\n",
       "w1survey_yr              0\n",
       "cohort                   0\n",
       "geduc1                   0\n",
       "geduc2                   0\n",
       "geducation               0\n",
       "gurban_i                 0\n",
       "gcendiv                  0\n",
       "gcenreg                  0\n",
       "waveparticipated         0\n",
       "w1race                   0\n",
       "w1conversionrel          0\n",
       "w1sex                    0\n",
       "w1gender                 0\n",
       "w1sex_gender             0\n",
       "w1age                    0\n",
       "w1sexualid               0\n",
       "w1sexminid               0\n",
       "w1pinc_i                 0\n",
       "w1hinc_i                 0\n",
       "w1conversion             0\n",
       "w1conversionhc           0\n",
       "w1socsupport_so_i        0\n",
       "dtype: int64"
      ]
     },
     "execution_count": 21,
     "metadata": {},
     "output_type": "execute_result"
    }
   ],
   "source": [
    "# See how many missing values remain\n",
    "meyer.isna().sum().sort_values(ascending = False)"
   ]
  },
  {
   "cell_type": "markdown",
   "id": "3925125a-980e-46ce-b161-7fa32f87ce5d",
   "metadata": {},
   "source": [
    "As seen in the cell above, the columns with the most missing values tend to be those with a `w1qx_x` naming convention.  These are questions with a matrix-style response prompt, from which participants selected only a few - usually one - answer(s).  For example, question 135 asks if the participant has ever experienced certain types of violent or abusive treatment, and then question 136 asks if they think they were targeted for that treatment based on an identity they hold (e.g., age, gender, sexual orientation, disability, etc.).  Each sub-question of 136 is one of these identities."
   ]
  },
  {
   "cell_type": "code",
   "execution_count": 22,
   "id": "76552dc6-f936-415c-9aa0-26f8c2098fbe",
   "metadata": {},
   "outputs": [
    {
     "data": {
      "text/html": [
       "<div>\n",
       "<style scoped>\n",
       "    .dataframe tbody tr th:only-of-type {\n",
       "        vertical-align: middle;\n",
       "    }\n",
       "\n",
       "    .dataframe tbody tr th {\n",
       "        vertical-align: top;\n",
       "    }\n",
       "\n",
       "    .dataframe thead th {\n",
       "        text-align: right;\n",
       "    }\n",
       "</style>\n",
       "<table border=\"1\" class=\"dataframe\">\n",
       "  <thead>\n",
       "    <tr style=\"text-align: right;\">\n",
       "      <th></th>\n",
       "      <th>w1q136_1</th>\n",
       "      <th>w1q136_2</th>\n",
       "      <th>w1q136_3</th>\n",
       "      <th>w1q136_4</th>\n",
       "      <th>w1q136_5</th>\n",
       "      <th>w1q136_6</th>\n",
       "      <th>w1q136_7</th>\n",
       "      <th>w1q136_8</th>\n",
       "      <th>w1q136_9</th>\n",
       "      <th>w1q136_10</th>\n",
       "    </tr>\n",
       "  </thead>\n",
       "  <tbody>\n",
       "    <tr>\n",
       "      <th>0</th>\n",
       "      <td>NaN</td>\n",
       "      <td>NaN</td>\n",
       "      <td>NaN</td>\n",
       "      <td>4.0</td>\n",
       "      <td>NaN</td>\n",
       "      <td>NaN</td>\n",
       "      <td>7.0</td>\n",
       "      <td>NaN</td>\n",
       "      <td>NaN</td>\n",
       "      <td>NaN</td>\n",
       "    </tr>\n",
       "    <tr>\n",
       "      <th>1</th>\n",
       "      <td>NaN</td>\n",
       "      <td>NaN</td>\n",
       "      <td>NaN</td>\n",
       "      <td>NaN</td>\n",
       "      <td>NaN</td>\n",
       "      <td>NaN</td>\n",
       "      <td>7.0</td>\n",
       "      <td>8.0</td>\n",
       "      <td>NaN</td>\n",
       "      <td>NaN</td>\n",
       "    </tr>\n",
       "    <tr>\n",
       "      <th>2</th>\n",
       "      <td>NaN</td>\n",
       "      <td>NaN</td>\n",
       "      <td>NaN</td>\n",
       "      <td>NaN</td>\n",
       "      <td>NaN</td>\n",
       "      <td>NaN</td>\n",
       "      <td>NaN</td>\n",
       "      <td>NaN</td>\n",
       "      <td>NaN</td>\n",
       "      <td>NaN</td>\n",
       "    </tr>\n",
       "    <tr>\n",
       "      <th>3</th>\n",
       "      <td>NaN</td>\n",
       "      <td>NaN</td>\n",
       "      <td>NaN</td>\n",
       "      <td>NaN</td>\n",
       "      <td>NaN</td>\n",
       "      <td>NaN</td>\n",
       "      <td>7.0</td>\n",
       "      <td>NaN</td>\n",
       "      <td>NaN</td>\n",
       "      <td>NaN</td>\n",
       "    </tr>\n",
       "    <tr>\n",
       "      <th>4</th>\n",
       "      <td>NaN</td>\n",
       "      <td>2.0</td>\n",
       "      <td>NaN</td>\n",
       "      <td>NaN</td>\n",
       "      <td>NaN</td>\n",
       "      <td>NaN</td>\n",
       "      <td>NaN</td>\n",
       "      <td>NaN</td>\n",
       "      <td>NaN</td>\n",
       "      <td>NaN</td>\n",
       "    </tr>\n",
       "  </tbody>\n",
       "</table>\n",
       "</div>"
      ],
      "text/plain": [
       "   w1q136_1  w1q136_2  w1q136_3  w1q136_4  w1q136_5  w1q136_6  w1q136_7  \\\n",
       "0       NaN       NaN       NaN       4.0       NaN       NaN       7.0   \n",
       "1       NaN       NaN       NaN       NaN       NaN       NaN       7.0   \n",
       "2       NaN       NaN       NaN       NaN       NaN       NaN       NaN   \n",
       "3       NaN       NaN       NaN       NaN       NaN       NaN       7.0   \n",
       "4       NaN       2.0       NaN       NaN       NaN       NaN       NaN   \n",
       "\n",
       "   w1q136_8  w1q136_9  w1q136_10  \n",
       "0       NaN       NaN        NaN  \n",
       "1       8.0       NaN        NaN  \n",
       "2       NaN       NaN        NaN  \n",
       "3       NaN       NaN        NaN  \n",
       "4       NaN       NaN        NaN  "
      ]
     },
     "execution_count": 22,
     "metadata": {},
     "output_type": "execute_result"
    }
   ],
   "source": [
    "meyer[['w1q136_1', 'w1q136_2', 'w1q136_3', 'w1q136_4', 'w1q136_5',\n",
    "    'w1q136_6', 'w1q136_7', 'w1q136_8', 'w1q136_9', 'w1q136_10']].head()"
   ]
  },
  {
   "cell_type": "markdown",
   "id": "2c4b058e-f49a-4fa6-8eaf-60367bdeb018",
   "metadata": {},
   "source": [
    "Each of these columns had up to 3 values - NaN, 7 or 97, and the number corresponding to the position of the response in the matrix (i.e., the fourth row above has a **2** in the `w1q136_2` column).  NaN, 97, and sometimes 7, all referred to missing data; NaNs appeared where participants declined to answer a question that was asked of them, and 7 or 97 appeared when participants were not asked the question at all, usually due to their response to a previous question (e.g., answering \"no\" to \"Do you currently have health insurance?\", and then not being asked \"What kind of health insurance do you have?\").  For all such columns, I converted the NaNs and 97s to 0s, and the target values to 1s.  The 7s required more careful attention, because they were legitimate values in some columns and essentially NAs in others."
   ]
  },
  {
   "cell_type": "code",
   "execution_count": 23,
   "id": "7c0eacf5-4002-4415-a2de-14b07bd5cbc4",
   "metadata": {},
   "outputs": [
    {
     "name": "stdout",
     "output_type": "stream",
     "text": [
      "98\n"
     ]
    }
   ],
   "source": [
    "# Make a list of all such columns\n",
    "diy_ohe = [\"w1q145_3\", \"w1q163_3\", \"w1q136_3\", \"w1q145_9\", \"w1q143_3\", \"w1q136_10\", \"w1q145_10\", \n",
    "  \"w1q136_9\", \"w1q163_10\", \"w1q163_9\", \"w1q143_9\", \"w1q143_4\", \"w1q136_6\", \"w1q143_10\", \"w1q143_5\", \n",
    "  \"w1q145_4\", \"w1q136_5\", \"w1q143_8\", \"w1q163_5\", \"w1q136_4\", \"w1q163_6\", \"w1q145_6\", \"w1q136_1\", \n",
    "  \"w1q143_7\", \"w1q163_1\", \"w1q143_2\", \"w1q143_1\", \"w1q145_5\", \"w1q143_6\", \"w1q163_2\", \"w1q163_4\", \n",
    "  \"w1q136_8\", \"w1q145_8\", \"w1q145_1\", \"w1q145_7\", \"w1q163_7\", \"w1q136_2\", \"w1q145_2\", \"w1q139_3\", \n",
    "  \"w1q136_7\", \"w1q139_9\", \"w1q139_10\", \"w1q139_5\", \"w1q139_4\", \"w1q139_8\", \"w1q139_6\", \"w1q139_2\", \n",
    "  \"w1q139_1\", \"w1q139_7\", \"w1q163_8\", \"w1q141_3\", \"w1q141_9\", \"w1q141_10\", \"w1q141_8\", \"w1q141_4\", \n",
    "  \"w1q141_1\", \"w1q141_5\", \"w1q141_2\", \"w1q141_7\", \"w1q141_6\", \"w1q64_12\", \"w1q64_5\", \"w1q74_5\", \n",
    "  \"w1q74_6\", \"w1q74_20\", \"w1q64_11\", \"w1q64_10\", \"w1q74_18\", \"w1q74_14\", \"w1q74_17\", \"w1q171_8\", \n",
    "  \"w1q30_3\", \"w1q64_13\", \"w1q64_7\", \"w1q30_4\", \"w1q171_6\", \"w1q171_4\", \"w1q64_8\", \"w1q74_10\", \n",
    "  \"w1q74_21\", \"w1q64_6\", \"w1q74_11\", \"w1q171_5\", \"w1q64_3\", \"w1q64_1\", \"w1q171_9\", \"w1q30_5\", \n",
    "  \"w1q171_3\", \"w1q74_22\", \"w1q64_9\", \"w1q171_2\", \"w1q171_7\", \"w1q74_23\", \"w1q64_4\", \"w1q64_2\", \n",
    "  \"w1q30_1\", \"w1q171_1\", \"w1q30_2\"]\n",
    "print(len(diy_ohe))"
   ]
  },
  {
   "cell_type": "code",
   "execution_count": 24,
   "id": "50e16d0b-e90f-4e44-9416-5513a777e86c",
   "metadata": {},
   "outputs": [
    {
     "name": "stdout",
     "output_type": "stream",
     "text": [
      "98\n"
     ]
    }
   ],
   "source": [
    "# Make distinct column names to put them into - don't overwrite the originals until I'm done!\n",
    "diy_ohe_new = [''.join([x, '_ei']) for x in diy_ohe]\n",
    "print(len(diy_ohe_new))"
   ]
  },
  {
   "cell_type": "code",
   "execution_count": 25,
   "id": "6850a91b-15b0-42c1-8236-c2629e53b166",
   "metadata": {},
   "outputs": [],
   "source": [
    "# Convert the 97s to 0s\n",
    "meyer.loc[:, diy_ohe_new] = np.where(meyer.loc[:, diy_ohe]==97, 0, meyer.loc[:, diy_ohe])"
   ]
  },
  {
   "cell_type": "code",
   "execution_count": 26,
   "id": "02aa354c-0a91-401b-9ba6-6dc8af491571",
   "metadata": {},
   "outputs": [],
   "source": [
    "# Identify columns with legitimate 7s\n",
    "nat_7s = [\n",
    "  'w1q143_7', 'w1q145_7', 'w1q163_7', 'w1q136_7', 'w1q139_7', 'w1q141_7', 'w1q64_7', 'w1q171_7']"
   ]
  },
  {
   "cell_type": "code",
   "execution_count": 27,
   "id": "b131fdf3-0f9a-40e2-a749-352062892d69",
   "metadata": {},
   "outputs": [],
   "source": [
    "# Get the new names for these columns (same as in diy_ohe_new)\n",
    "nat_7s_ei = [''.join([x, '_ei']) for x in nat_7s]\n",
    "\n",
    "# Turn those 7s into 1s\n",
    "meyer.loc[:, nat_7s_ei] = np.where(meyer.loc[:, nat_7s]==7, 1, meyer.loc[:, nat_7s_ei])"
   ]
  },
  {
   "cell_type": "code",
   "execution_count": 28,
   "id": "7307d2f6-0c5b-4804-949a-5b8a6ad5150a",
   "metadata": {},
   "outputs": [],
   "source": [
    "# Convert the remaining 7s, where they are equivalent to 97 or NaN, to 0s\n",
    "meyer.loc[:, diy_ohe_new] = np.where(meyer.loc[:, diy_ohe_new]==7, 0, meyer.loc[:, diy_ohe_new])"
   ]
  },
  {
   "cell_type": "code",
   "execution_count": 29,
   "id": "bbc214a4-3396-4f04-8fbc-c8d192eee8d7",
   "metadata": {},
   "outputs": [],
   "source": [
    "# Fill the NAs with 0s\n",
    "meyer[diy_ohe_new] = meyer[diy_ohe_new].fillna(0)"
   ]
  },
  {
   "cell_type": "code",
   "execution_count": 30,
   "id": "2b0bfa64-7c99-4cc6-9b3a-b35b6924ee6b",
   "metadata": {},
   "outputs": [
    {
     "name": "stdout",
     "output_type": "stream",
     "text": [
      "[0.0, 1.0, 2.0, 3.0, 4.0, 5.0, 6.0, 8.0, 9.0, 10.0, 11.0, 13.0, 14.0, 17.0, 18.0, 20.0, 21.0, 22.0, 23.0]\n",
      "[]\n"
     ]
    }
   ],
   "source": [
    "# Check that all the values are correct\n",
    "value_list_x = []\n",
    "check_7s = []\n",
    "for i in diy_ohe_new:\n",
    "  a = list(meyer[i].unique())\n",
    "  if 7 in a:\n",
    "    check_7s.append(i)\n",
    "  value_list_x += a\n",
    "value_list_x = list(set(value_list_x))\n",
    "\n",
    "print(sorted(value_list_x)) # should be 0-23, no 7s, no NaNs\n",
    "print(check_7s) # should be blank"
   ]
  },
  {
   "cell_type": "code",
   "execution_count": 31,
   "id": "25906563-6586-468a-8125-4e1b3f558a16",
   "metadata": {},
   "outputs": [],
   "source": [
    "# Reduce to 0s and 1s\n",
    "meyer.loc[:, diy_ohe_new] = np.where(meyer.loc[:, diy_ohe_new]!=0, 1, meyer.loc[:, diy_ohe_new])"
   ]
  },
  {
   "cell_type": "code",
   "execution_count": 32,
   "id": "2e69dc67",
   "metadata": {},
   "outputs": [
    {
     "name": "stdout",
     "output_type": "stream",
     "text": [
      "[0.0, 1.0]\n",
      "[]\n"
     ]
    }
   ],
   "source": [
    "# Check that all the values are correct\n",
    "value_list_x = []\n",
    "check_7s = []\n",
    "for i in diy_ohe_new:\n",
    "  a = list(meyer[i].unique())\n",
    "  if 7 in a:\n",
    "    check_7s.append(i)\n",
    "  value_list_x += a\n",
    "value_list_x = list(set(value_list_x))\n",
    "\n",
    "print(sorted(value_list_x)) # should be 0-1\n",
    "print(check_7s) # should be blank"
   ]
  },
  {
   "cell_type": "code",
   "execution_count": 33,
   "id": "13976fce-895e-4ef6-9c3e-e5070ddb107e",
   "metadata": {},
   "outputs": [
    {
     "data": {
      "text/plain": [
       "0"
      ]
     },
     "execution_count": 33,
     "metadata": {},
     "output_type": "execute_result"
    }
   ],
   "source": [
    "# Are all the NAs in those columns gone?\n",
    "meyer[diy_ohe_new].isna().sum().sum()"
   ]
  },
  {
   "cell_type": "code",
   "execution_count": 34,
   "id": "8ae83ffe-1a32-4a0e-8838-8bb03a35f701",
   "metadata": {},
   "outputs": [],
   "source": [
    "# Drop the old versions\n",
    "meyer.drop(columns = diy_ohe, inplace = True)"
   ]
  },
  {
   "cell_type": "code",
   "execution_count": 35,
   "id": "ce341d0e-6d37-4bf9-996f-f1721843cea2",
   "metadata": {},
   "outputs": [
    {
     "data": {
      "text/plain": [
       "(1494, 226)"
      ]
     },
     "execution_count": 35,
     "metadata": {},
     "output_type": "execute_result"
    }
   ],
   "source": [
    "# w1q64_t_verb has a similar structure to the questions above, but it's a write-in field\n",
    "meyer[['w1q64_t_num']] = meyer[['w1q64_t_verb']].fillna('0')\n",
    "# thanks to this SO article for advice about an error in a previous version of this code\n",
    "# https://stackoverflow.com/questions/68292862/performancewarning-dataframe-is-highly-fragmented-this-is-usually-the-result-o\n",
    "\n",
    "# Reduce to 0s and 1s\n",
    "meyer.loc[:, 'w1q64_t_num'] = np.where(meyer.loc[:, 'w1q64_t_num']!='0', 1, 0)\n",
    "\n",
    "# Drop the original\n",
    "meyer.drop(columns = ['w1q64_t_verb'], inplace = True)\n",
    "meyer.shape"
   ]
  },
  {
   "cell_type": "code",
   "execution_count": 36,
   "id": "af366c49-45ac-47a1-826e-190268d067af",
   "metadata": {},
   "outputs": [
    {
     "data": {
      "text/plain": [
       "(1494, 226)"
      ]
     },
     "execution_count": 36,
     "metadata": {},
     "output_type": "execute_result"
    }
   ],
   "source": [
    "# Are we back the pre-adding-columns shape?\n",
    "meyer.shape"
   ]
  },
  {
   "cell_type": "code",
   "execution_count": 37,
   "id": "bd283f93-31d6-4d13-8225-a1c57a162c94",
   "metadata": {
    "scrolled": true
   },
   "outputs": [
    {
     "data": {
      "text/plain": [
       "w1q03                 39\n",
       "w1q175                36\n",
       "w1q19c                21\n",
       "w1povertycat_i        20\n",
       "w1poverty_i           20\n",
       "w1q72                 19\n",
       "gmilesaway2           18\n",
       "w1q179                18\n",
       "w1q142d               16\n",
       "w1q119                16\n",
       "w1q146d               16\n",
       "w1q109                16\n",
       "w1q167                15\n",
       "w1q166                15\n",
       "w1q180                15\n",
       "w1q19d                15\n",
       "w1q52                 14\n",
       "w1q142i               13\n",
       "w1q142g               13\n",
       "w1q75                 13\n",
       "w1q181                13\n",
       "w1q162                13\n",
       "w1q65                 12\n",
       "w1q142h               11\n",
       "w1q69                 11\n",
       "w1q146c               11\n",
       "w1q135d               11\n",
       "w1q78                 11\n",
       "w1q105                10\n",
       "w1q146f               10\n",
       "w1q142b               10\n",
       "w1q142j               10\n",
       "w1q142f               10\n",
       "w1q146g               10\n",
       "w1q142e               10\n",
       "w1q169                10\n",
       "w1q32                 10\n",
       "w1q19b                10\n",
       "w1q168                10\n",
       "w1q146e                9\n",
       "w1q19a                 9\n",
       "w1q135e                9\n",
       "w1q135c                9\n",
       "w1q135b                9\n",
       "w1q140                 9\n",
       "w1q142k                9\n",
       "w1q123d                9\n",
       "w1q138                 9\n",
       "w1q142a                9\n",
       "w1q146l                9\n",
       "w1q113                 9\n",
       "w1q137                 9\n",
       "w1q146k                8\n",
       "w1q146a                8\n",
       "w1q101                 8\n",
       "w1q146i                8\n",
       "w1q146j                8\n",
       "w1q76                  8\n",
       "w1q146b                7\n",
       "w1q146h                7\n",
       "w1q142c                7\n",
       "w1q01                  7\n",
       "w1q123c                7\n",
       "w1q135f                7\n",
       "w1q33                  7\n",
       "w1q79                  7\n",
       "w1q135a                6\n",
       "w1q124                 5\n",
       "w1q123a                5\n",
       "w1q37                  5\n",
       "w1q123b                4\n",
       "w1q35                  3\n",
       "w1q38                  3\n",
       "w1q36                  2\n",
       "w1q89                  2\n",
       "w1q114                 2\n",
       "w1q34                  1\n",
       "w1q141_8_ei            0\n",
       "w1q145_5_ei            0\n",
       "w1q139_1_ei            0\n",
       "w1q139_7_ei            0\n",
       "w1q163_8_ei            0\n",
       "w1q141_3_ei            0\n",
       "w1q141_9_ei            0\n",
       "w1q141_10_ei           0\n",
       "w1q74_5_ei             0\n",
       "w1q141_4_ei            0\n",
       "w1q141_1_ei            0\n",
       "w1q141_5_ei            0\n",
       "w1q141_2_ei            0\n",
       "w1q141_7_ei            0\n",
       "w1q141_6_ei            0\n",
       "w1q139_2_ei            0\n",
       "w1q64_12_ei            0\n",
       "w1q143_6_ei            0\n",
       "w1q139_3_ei            0\n",
       "w1q139_6_ei            0\n",
       "w1q163_4_ei            0\n",
       "w1q136_2_ei            0\n",
       "w1q163_7_ei            0\n",
       "w1q145_7_ei            0\n",
       "w1q145_1_ei            0\n",
       "w1q145_8_ei            0\n",
       "w1q136_8_ei            0\n",
       "w1q163_2_ei            0\n",
       "w1q139_8_ei            0\n",
       "w1q145_2_ei            0\n",
       "w1q136_7_ei            0\n",
       "w1q139_9_ei            0\n",
       "w1q139_10_ei           0\n",
       "w1q139_5_ei            0\n",
       "w1q139_4_ei            0\n",
       "w1q64_5_ei             0\n",
       "studyid                0\n",
       "w1q74_6_ei             0\n",
       "w1q171_5_ei            0\n",
       "w1q64_1_ei             0\n",
       "w1q171_9_ei            0\n",
       "w1q30_5_ei             0\n",
       "w1q171_3_ei            0\n",
       "w1q74_22_ei            0\n",
       "w1q143_2_ei            0\n",
       "w1q64_9_ei             0\n",
       "w1q171_2_ei            0\n",
       "w1q171_7_ei            0\n",
       "w1q74_23_ei            0\n",
       "w1q64_4_ei             0\n",
       "w1q64_2_ei             0\n",
       "w1q30_1_ei             0\n",
       "w1q171_1_ei            0\n",
       "w1q30_2_ei             0\n",
       "w1q64_3_ei             0\n",
       "w1q74_11_ei            0\n",
       "w1q74_20_ei            0\n",
       "w1q64_6_ei             0\n",
       "w1q64_11_ei            0\n",
       "w1q64_10_ei            0\n",
       "w1q74_18_ei            0\n",
       "w1q74_14_ei            0\n",
       "w1q74_17_ei            0\n",
       "w1q171_8_ei            0\n",
       "w1q30_3_ei             0\n",
       "w1q64_13_ei            0\n",
       "w1q64_7_ei             0\n",
       "w1q30_4_ei             0\n",
       "w1q171_6_ei            0\n",
       "w1q171_4_ei            0\n",
       "w1q64_8_ei             0\n",
       "w1q74_10_ei            0\n",
       "w1q74_21_ei            0\n",
       "w1q143_1_ei            0\n",
       "w1dudit_i              0\n",
       "w1q163_1_ei            0\n",
       "w1pinc_i               0\n",
       "w1conversion           0\n",
       "w1conversionhc         0\n",
       "w1conversionrel        0\n",
       "w1ace_i                0\n",
       "w1ace_emo_i            0\n",
       "w1ace_inc_i            0\n",
       "w1ace_ipv_i            0\n",
       "w1ace_men_i            0\n",
       "w1ace_phy_i            0\n",
       "w1ace_sep_i            0\n",
       "w1ace_sex_i            0\n",
       "w1ace_sub_i            0\n",
       "w1auditc_i             0\n",
       "w1childgnc_i           0\n",
       "w1connectedness_i      0\n",
       "w1hinc_i               0\n",
       "w1sexminid             0\n",
       "w1q143_7_ei            0\n",
       "w1sexualid             0\n",
       "w1weight_full          0\n",
       "w1survey_yr            0\n",
       "cohort                 0\n",
       "geduc1                 0\n",
       "geduc2                 0\n",
       "geducation             0\n",
       "gurban_i               0\n",
       "gcendiv                0\n",
       "gcenreg                0\n",
       "screen_race            0\n",
       "w1race                 0\n",
       "w1sex                  0\n",
       "w1gender               0\n",
       "w1sex_gender           0\n",
       "w1age                  0\n",
       "waveparticipated       0\n",
       "w1everyday_i           0\n",
       "w1feltstigma_i         0\n",
       "w1hcthreat_i           0\n",
       "w1q163_10_ei           0\n",
       "w1q163_9_ei            0\n",
       "w1q143_9_ei            0\n",
       "w1q143_4_ei            0\n",
       "w1q136_6_ei            0\n",
       "w1q143_10_ei           0\n",
       "w1q143_5_ei            0\n",
       "w1q145_4_ei            0\n",
       "w1q136_5_ei            0\n",
       "w1q143_8_ei            0\n",
       "w1q163_5_ei            0\n",
       "w1q136_4_ei            0\n",
       "w1q163_6_ei            0\n",
       "w1q145_6_ei            0\n",
       "w1q136_1_ei            0\n",
       "w1q136_9_ei            0\n",
       "w1q145_10_ei           0\n",
       "w1q136_10_ei           0\n",
       "w1socsupport_fam_i     0\n",
       "w1idcentral_i          0\n",
       "w1internalized_i       0\n",
       "w1kessler6_i           0\n",
       "w1lifesat_i            0\n",
       "w1meim_i               0\n",
       "w1socialwb_i           0\n",
       "w1socsupport_fr_i      0\n",
       "w1q143_3_ei            0\n",
       "w1socsupport_i         0\n",
       "w1socsupport_so_i      0\n",
       "w1q145_3_ei            0\n",
       "w1q163_3_ei            0\n",
       "w1q136_3_ei            0\n",
       "w1q145_9_ei            0\n",
       "w1q64_t_num            0\n",
       "dtype: int64"
      ]
     },
     "execution_count": 37,
     "metadata": {},
     "output_type": "execute_result"
    }
   ],
   "source": [
    "# Reassess the NAs\n",
    "meyer.isna().sum().sort_values(ascending = False)"
   ]
  },
  {
   "cell_type": "markdown",
   "id": "7dc4a4ad-713a-40b6-95f3-5c062dc935eb",
   "metadata": {},
   "source": [
    "The next batch of columns I tackled included `'w1q101'`, `'w1q105'`, `'w1q109'`, `'w1q113'`, and `'w1q114'`, which are about suicidal ideation and behavior.  Among the first four, each question increases in severity - thoughts, intent, planning, and attempts, respectively.  If someone failed to answer an earlier question, then said yes to a later question, I imputed \"yes, once\" (2) for the earlier question.  Otherwise I imputed \"no\" (1).  \"Yes, more than once,\" was also an option, but I chose to err on the conservative side."
   ]
  },
  {
   "cell_type": "code",
   "execution_count": 38,
   "id": "4a925a06-d760-4a9e-a105-cacd26bb34bb",
   "metadata": {},
   "outputs": [],
   "source": [
    "# Create new columns for the imputed values\n",
    "meyer['w1q101_ei'] = meyer['w1q101'].copy()\n",
    "meyer['w1q105_ei'] = meyer['w1q105'].copy()\n",
    "meyer['w1q109_ei'] = meyer['w1q109'].copy()\n",
    "\n",
    "# Define the row conditions - NA in a given column\n",
    "cond0 = meyer['w1q101'].isna()\n",
    "cond1 = meyer['w1q105'].isna()\n",
    "cond2 = meyer['w1q109'].isna()\n",
    "\n",
    "# Define the column conditions - they gave an answer other than \"no\"\n",
    "y1 = ((meyer['w1q105'].notna()) & (meyer['w1q105']!=1))\n",
    "y2 = ((meyer['w1q109'].notna()) & (meyer['w1q109']!=1))\n",
    "y3 = ((meyer['w1q113'].notna()) & (meyer['w1q113']!=1))\n",
    "\n",
    "# Use more severe questions to impute less severe questions\n",
    "meyer.loc[((y1 | y2 | y3) & cond0), 'w1q101_ei'] = 2\n",
    "meyer.loc[((y2 | y3) & cond1), 'w1q105_ei'] = 2\n",
    "meyer.loc[(y3 & cond2), 'w1q109_ei'] = 2"
   ]
  },
  {
   "cell_type": "code",
   "execution_count": 39,
   "id": "009580ad-6392-4bb7-8faf-34d959257ed5",
   "metadata": {},
   "outputs": [],
   "source": [
    "# Impute all others - 'w1q119' is a similarly structured question about non-suicidal self-harm\n",
    "meyer[['w1q101_ei', 'w1q105_ei', 'w1q109_ei', \"w1q113_ei\", \"w1q119_ei\"]] = meyer[[\n",
    "    'w1q101_ei', 'w1q105_ei', 'w1q109_ei', \"w1q113\", \"w1q119\"]].fillna(1)"
   ]
  },
  {
   "cell_type": "code",
   "execution_count": 40,
   "id": "376e2961-6a44-41ed-a7a2-fd00bcdd5781",
   "metadata": {},
   "outputs": [
    {
     "data": {
      "text/plain": [
       "(1494, 226)"
      ]
     },
     "execution_count": 40,
     "metadata": {},
     "output_type": "execute_result"
    }
   ],
   "source": [
    "# Drop the originals\n",
    "meyer.drop(columns = ['w1q101', 'w1q105', 'w1q109', \"w1q113\", \"w1q119\"], inplace = True)\n",
    "meyer.shape"
   ]
  },
  {
   "cell_type": "markdown",
   "id": "569657ba-5978-4ae6-8efc-867242140324",
   "metadata": {},
   "source": [
    "Column `'w1q114'` asks how many suicide attempts someone has made, and includes 97s for \"planning missing\" values, as discussed above.  First I had to convert those 97s to 0s, then 0 for all others, although some of those 0s were changed again in a later step.  I also recoded some values on the scale to make it more (approximately) linear.  In the original question, participants could select a value from 1-5 to indicate, respectively, 1-5 lifetime suicide attempts.  Starting at 6, however, each value represented a range of attempts:\n",
    "|Value|Number of Lifetime Suicide Attempts|\n",
    "|-|-|\n",
    "|6|6-10|\n",
    "|7|11-15|\n",
    "|8|16-20|\n",
    "|9|21 or more|\n",
    "\n",
    "Having individual values and ranges on the same scale presents challenges for linear modeling.  Although there is no way to know the specific number of attempts for any participant who selected a range, I mitigated the deleterious effects by changing each value to the minimum number in its range.  This replaced the original set of possible responses (1-9) with one that more accurately represented the distance between any two options (1-6, 11, 16, 21)."
   ]
  },
  {
   "cell_type": "code",
   "execution_count": 41,
   "id": "0a8e9a49-5f6c-4376-abd8-3a3bb505d721",
   "metadata": {},
   "outputs": [],
   "source": [
    "# Replace the 97s with 0s\n",
    "meyer.loc[:, 'w1q114_ei'] = np.where(meyer.loc[:, 'w1q114']==97, 0, meyer.loc[:, 'w1q114'])\n",
    "\n",
    "# Replace the range values\n",
    "cond7 = meyer['w1q114_ei']==7.0\n",
    "meyer.loc[cond7, 'w1q114_ei']=11\n",
    "\n",
    "cond8 = meyer['w1q114_ei']==8.0\n",
    "meyer.loc[cond8, 'w1q114_ei']=16\n",
    "\n",
    "cond9 = meyer['w1q114_ei']==9.0\n",
    "meyer.loc[cond9, 'w1q114_ei']=21"
   ]
  },
  {
   "cell_type": "code",
   "execution_count": 42,
   "id": "a08faa0b-ce1c-4fad-96df-bcd52ce64ce7",
   "metadata": {},
   "outputs": [],
   "source": [
    "# Impute all others\n",
    "meyer['w1q114_ei'] = meyer['w1q114_ei'].fillna(0)"
   ]
  },
  {
   "cell_type": "code",
   "execution_count": 43,
   "id": "2e805817-9972-409d-a444-c95faac1a3fc",
   "metadata": {},
   "outputs": [
    {
     "data": {
      "text/plain": [
       "(1494, 226)"
      ]
     },
     "execution_count": 43,
     "metadata": {},
     "output_type": "execute_result"
    }
   ],
   "source": [
    "# Drop the original\n",
    "meyer.drop(columns = ['w1q114'], inplace = True)\n",
    "meyer.shape"
   ]
  },
  {
   "cell_type": "markdown",
   "id": "ed3f7dae-f22b-470a-811d-032ed10c21e5",
   "metadata": {},
   "source": [
    "Features `'w1q113'` (\"Did you ever make a suicide attempt?\"), and `'w1q114'` (\"If yes, how many different suicide attempts did you ever make?\") are redundant, and using both in the model would introduce unnecessary colinearity.  Therefore, wherever someone was marked as a 0 in `'w1q114'` (would have originally been NA; the scale did not include 0), but a \"yes\" in `'w1q113'`, I imputed a value into `'w1q114'` to rectify the anomaly.  I then dropped `'w1q113'`."
   ]
  },
  {
   "cell_type": "code",
   "execution_count": 44,
   "id": "62a462a1-7170-4e3f-a5ea-3dbe0ffc341e",
   "metadata": {},
   "outputs": [
    {
     "data": {
      "text/html": [
       "<div>\n",
       "<style scoped>\n",
       "    .dataframe tbody tr th:only-of-type {\n",
       "        vertical-align: middle;\n",
       "    }\n",
       "\n",
       "    .dataframe tbody tr th {\n",
       "        vertical-align: top;\n",
       "    }\n",
       "\n",
       "    .dataframe thead th {\n",
       "        text-align: right;\n",
       "    }\n",
       "</style>\n",
       "<table border=\"1\" class=\"dataframe\">\n",
       "  <thead>\n",
       "    <tr style=\"text-align: right;\">\n",
       "      <th></th>\n",
       "      <th>w1q113_ei</th>\n",
       "      <th>w1q114_ei</th>\n",
       "    </tr>\n",
       "  </thead>\n",
       "  <tbody>\n",
       "    <tr>\n",
       "      <th>443</th>\n",
       "      <td>3.0</td>\n",
       "      <td>0.0</td>\n",
       "    </tr>\n",
       "    <tr>\n",
       "      <th>959</th>\n",
       "      <td>3.0</td>\n",
       "      <td>0.0</td>\n",
       "    </tr>\n",
       "  </tbody>\n",
       "</table>\n",
       "</div>"
      ],
      "text/plain": [
       "     w1q113_ei  w1q114_ei\n",
       "443        3.0        0.0\n",
       "959        3.0        0.0"
      ]
     },
     "execution_count": 44,
     "metadata": {},
     "output_type": "execute_result"
    }
   ],
   "source": [
    "# Define the conditions\n",
    "cond1 = meyer['w1q113_ei']>1\n",
    "cond2 = meyer['w1q114_ei']==0\n",
    "\n",
    "# See the observations\n",
    "check = meyer.loc[(cond1 & cond2), ['w1q113_ei', 'w1q114_ei']]\n",
    "check"
   ]
  },
  {
   "cell_type": "markdown",
   "id": "7f6564f6-b1d8-4e94-b00d-b384f5b6cf0d",
   "metadata": {},
   "source": [
    "In both cases, the participant said they attempted suicide more than once, and then declined to say how many times.  I imputed 2 attempts for each of them."
   ]
  },
  {
   "cell_type": "code",
   "execution_count": 45,
   "id": "56bacdca-074c-4150-a70c-fd4fdd2183dc",
   "metadata": {},
   "outputs": [],
   "source": [
    "# Imputation\n",
    "meyer.loc[(cond1 & cond2), 'w1q114_ei'] = 2"
   ]
  },
  {
   "cell_type": "code",
   "execution_count": 46,
   "id": "6292e5a6-470a-43b6-91f5-ff54cf58c477",
   "metadata": {},
   "outputs": [
    {
     "data": {
      "text/plain": [
       "(1494, 225)"
      ]
     },
     "execution_count": 46,
     "metadata": {},
     "output_type": "execute_result"
    }
   ],
   "source": [
    "# Drop 'w1q113_ei'\n",
    "meyer.drop(columns = ['w1q113_ei'], inplace = True)\n",
    "meyer.shape"
   ]
  },
  {
   "cell_type": "markdown",
   "id": "8e4baadb-672a-4445-a0a7-58f03c0dcab4",
   "metadata": {},
   "source": [
    "Questions 166-168 asked participants if they and/or their parents were born in the United States, or if they had primarily lived in the United States as a child.  Where possible, I imputed missing values in any one of these columns based on deductions from the other two.  Where that was not possible, I imputed the most common responses."
   ]
  },
  {
   "cell_type": "code",
   "execution_count": 47,
   "id": "a398214c-1788-4182-bbc0-a5421404732d",
   "metadata": {},
   "outputs": [],
   "source": [
    "# Create new columns for the imputed values\n",
    "meyer[['w1q166_ei']] = meyer[['w1q166']]\n",
    "meyer[['w1q167_ei']] = meyer[['w1q167']]\n",
    "meyer[['w1q168_ei']] = meyer[['w1q168']]\n",
    "\n",
    "# If they left all 3 blank, impute the mode\n",
    "a = meyer['w1q166'].isna()\n",
    "b = meyer['w1q167'].isna()\n",
    "c = meyer['w1q168'].isna()\n",
    "\n",
    "meyer.loc[(a & b & c), 'w1q166_ei'] = 1 # Yes, I was born in the US (92.7%)\n",
    "meyer.loc[(a & b & c), 'w1q167_ei'] = 1 # Yes, I primarily grew up in the US (94.5%)\n",
    "meyer.loc[(a & b & c), 'w1q168_ei'] = 3 # Both of my parents were born in the US (79.2%)\n",
    "\n",
    "# Check the rest\n",
    "test = meyer[['w1q166_ei', 'w1q167_ei', 'w1q168_ei']]\n",
    "test1 = test[test['w1q166_ei'].isna()]\n",
    "test2 = test[test['w1q167_ei'].isna()]\n",
    "test3 = test[test['w1q168_ei'].isna()]"
   ]
  },
  {
   "cell_type": "code",
   "execution_count": 48,
   "id": "b99e329e-a152-4948-98c8-fde42cdcdc1e",
   "metadata": {},
   "outputs": [
    {
     "data": {
      "text/html": [
       "<div>\n",
       "<style scoped>\n",
       "    .dataframe tbody tr th:only-of-type {\n",
       "        vertical-align: middle;\n",
       "    }\n",
       "\n",
       "    .dataframe tbody tr th {\n",
       "        vertical-align: top;\n",
       "    }\n",
       "\n",
       "    .dataframe thead th {\n",
       "        text-align: right;\n",
       "    }\n",
       "</style>\n",
       "<table border=\"1\" class=\"dataframe\">\n",
       "  <thead>\n",
       "    <tr style=\"text-align: right;\">\n",
       "      <th></th>\n",
       "      <th>w1q166_ei</th>\n",
       "      <th>w1q167_ei</th>\n",
       "      <th>w1q168_ei</th>\n",
       "    </tr>\n",
       "  </thead>\n",
       "  <tbody>\n",
       "    <tr>\n",
       "      <th>150</th>\n",
       "      <td>NaN</td>\n",
       "      <td>1.0</td>\n",
       "      <td>3.0</td>\n",
       "    </tr>\n",
       "    <tr>\n",
       "      <th>196</th>\n",
       "      <td>NaN</td>\n",
       "      <td>1.0</td>\n",
       "      <td>3.0</td>\n",
       "    </tr>\n",
       "    <tr>\n",
       "      <th>892</th>\n",
       "      <td>NaN</td>\n",
       "      <td>1.0</td>\n",
       "      <td>3.0</td>\n",
       "    </tr>\n",
       "    <tr>\n",
       "      <th>967</th>\n",
       "      <td>NaN</td>\n",
       "      <td>NaN</td>\n",
       "      <td>3.0</td>\n",
       "    </tr>\n",
       "    <tr>\n",
       "      <th>1067</th>\n",
       "      <td>NaN</td>\n",
       "      <td>1.0</td>\n",
       "      <td>2.0</td>\n",
       "    </tr>\n",
       "  </tbody>\n",
       "</table>\n",
       "</div>"
      ],
      "text/plain": [
       "      w1q166_ei  w1q167_ei  w1q168_ei\n",
       "150         NaN        1.0        3.0\n",
       "196         NaN        1.0        3.0\n",
       "892         NaN        1.0        3.0\n",
       "967         NaN        NaN        3.0\n",
       "1067        NaN        1.0        2.0"
      ]
     },
     "execution_count": 48,
     "metadata": {},
     "output_type": "execute_result"
    }
   ],
   "source": [
    "test1"
   ]
  },
  {
   "cell_type": "code",
   "execution_count": 49,
   "id": "7b9dd9f5-3b55-4585-b1ce-e1e0fb7921a9",
   "metadata": {},
   "outputs": [],
   "source": [
    "# Looking at the pattern of associated 167s and 168s, \n",
    "# I decided it made the most sense to impute 1s for the remaining NAs in 166\n",
    "meyer[['w1q166_ei']] = meyer[['w1q166_ei']].fillna(1)"
   ]
  },
  {
   "cell_type": "code",
   "execution_count": 50,
   "id": "558e533c-7f4d-43a1-9114-6ce8db2c288a",
   "metadata": {},
   "outputs": [
    {
     "data": {
      "text/html": [
       "<div>\n",
       "<style scoped>\n",
       "    .dataframe tbody tr th:only-of-type {\n",
       "        vertical-align: middle;\n",
       "    }\n",
       "\n",
       "    .dataframe tbody tr th {\n",
       "        vertical-align: top;\n",
       "    }\n",
       "\n",
       "    .dataframe thead th {\n",
       "        text-align: right;\n",
       "    }\n",
       "</style>\n",
       "<table border=\"1\" class=\"dataframe\">\n",
       "  <thead>\n",
       "    <tr style=\"text-align: right;\">\n",
       "      <th></th>\n",
       "      <th>w1q166_ei</th>\n",
       "      <th>w1q167_ei</th>\n",
       "      <th>w1q168_ei</th>\n",
       "    </tr>\n",
       "  </thead>\n",
       "  <tbody>\n",
       "    <tr>\n",
       "      <th>647</th>\n",
       "      <td>1.0</td>\n",
       "      <td>NaN</td>\n",
       "      <td>3.0</td>\n",
       "    </tr>\n",
       "    <tr>\n",
       "      <th>881</th>\n",
       "      <td>2.0</td>\n",
       "      <td>NaN</td>\n",
       "      <td>2.0</td>\n",
       "    </tr>\n",
       "    <tr>\n",
       "      <th>933</th>\n",
       "      <td>1.0</td>\n",
       "      <td>NaN</td>\n",
       "      <td>3.0</td>\n",
       "    </tr>\n",
       "    <tr>\n",
       "      <th>967</th>\n",
       "      <td>NaN</td>\n",
       "      <td>NaN</td>\n",
       "      <td>3.0</td>\n",
       "    </tr>\n",
       "    <tr>\n",
       "      <th>1125</th>\n",
       "      <td>1.0</td>\n",
       "      <td>NaN</td>\n",
       "      <td>3.0</td>\n",
       "    </tr>\n",
       "  </tbody>\n",
       "</table>\n",
       "</div>"
      ],
      "text/plain": [
       "      w1q166_ei  w1q167_ei  w1q168_ei\n",
       "647         1.0        NaN        3.0\n",
       "881         2.0        NaN        2.0\n",
       "933         1.0        NaN        3.0\n",
       "967         NaN        NaN        3.0\n",
       "1125        1.0        NaN        3.0"
      ]
     },
     "execution_count": 50,
     "metadata": {},
     "output_type": "execute_result"
    }
   ],
   "source": [
    "test2"
   ]
  },
  {
   "cell_type": "code",
   "execution_count": 51,
   "id": "b54e0098-be48-4575-946c-31571326694c",
   "metadata": {},
   "outputs": [],
   "source": [
    "# Looking at the pattern of associated 166s and 168s, I decided it made the most \n",
    "# sense to impute values for the remaining NAs in 167 according to this logic\n",
    "\n",
    "# Define some conditions\n",
    "a = meyer['w1q166']==2 # I wasn't born here\n",
    "b = meyer['w1q167'].isna() # The target values\n",
    "c = ((meyer['w1q168'].notna()) & (meyer['w1q168']<3)) # 1+ parent not born here\n",
    "\n",
    "# Under those conditions, impute \"I didn't primarily live in the US as a child\"\n",
    "meyer.loc[(a & b & c), 'w1q167_ei'] = 2 \n",
    "# Otherwise impute \"yes\"\n",
    "meyer[['w1q167_ei']] = meyer[['w1q167_ei']].fillna(1)"
   ]
  },
  {
   "cell_type": "code",
   "execution_count": 52,
   "id": "59428b4a-ae63-4c3e-b95b-de6fa72d52c1",
   "metadata": {},
   "outputs": [
    {
     "data": {
      "text/html": [
       "<div>\n",
       "<style scoped>\n",
       "    .dataframe tbody tr th:only-of-type {\n",
       "        vertical-align: middle;\n",
       "    }\n",
       "\n",
       "    .dataframe tbody tr th {\n",
       "        vertical-align: top;\n",
       "    }\n",
       "\n",
       "    .dataframe thead th {\n",
       "        text-align: right;\n",
       "    }\n",
       "</style>\n",
       "<table border=\"1\" class=\"dataframe\">\n",
       "  <thead>\n",
       "    <tr style=\"text-align: right;\">\n",
       "      <th></th>\n",
       "      <th>w1q166_ei</th>\n",
       "      <th>w1q167_ei</th>\n",
       "      <th>w1q168_ei</th>\n",
       "    </tr>\n",
       "  </thead>\n",
       "  <tbody>\n",
       "  </tbody>\n",
       "</table>\n",
       "</div>"
      ],
      "text/plain": [
       "Empty DataFrame\n",
       "Columns: [w1q166_ei, w1q167_ei, w1q168_ei]\n",
       "Index: []"
      ]
     },
     "execution_count": 52,
     "metadata": {},
     "output_type": "execute_result"
    }
   ],
   "source": [
    "test3"
   ]
  },
  {
   "cell_type": "code",
   "execution_count": 53,
   "id": "0f624c57-0884-44bb-b47e-0880d0b816e3",
   "metadata": {},
   "outputs": [
    {
     "data": {
      "text/plain": [
       "(1494, 225)"
      ]
     },
     "execution_count": 53,
     "metadata": {},
     "output_type": "execute_result"
    }
   ],
   "source": [
    "# 168 is all done!\n",
    "\n",
    "# Drop the originals\n",
    "meyer.drop(columns = ['w1q166', 'w1q167', 'w1q168'], inplace = True)\n",
    "meyer.shape"
   ]
  },
  {
   "cell_type": "markdown",
   "id": "f8f3667d-262d-4565-aa2e-43797945da8c",
   "metadata": {},
   "source": [
    "With the \"batches\" of columns handled, I next devised imputation plans for the rest of the columns with missing values on more or less case-by-case basis.  First, wherever I could logically deduce a reasonable imputation, I did that.  Comments are provided in the code to briefly explain that logic."
   ]
  },
  {
   "cell_type": "code",
   "execution_count": 54,
   "id": "4362fa76-a1ea-459a-95ee-27f3308dc70f",
   "metadata": {},
   "outputs": [
    {
     "data": {
      "text/plain": [
       "(1494, 225)"
      ]
     },
     "execution_count": 54,
     "metadata": {},
     "output_type": "execute_result"
    }
   ],
   "source": [
    "# gmilesaway2 is about their proximity to an LGBT-specific health center\n",
    "meyer[['gmilesaway2_ei']] = meyer[['gmilesaway2']].fillna(0)\n",
    "\n",
    "# Reverse code so 1=close\n",
    "meyer[['gmilesaway2_ei_r']] = 1-meyer[['gmilesaway2_ei']]\n",
    "\n",
    "# Drop the original and interim\n",
    "meyer.drop(columns = ['gmilesaway2', 'gmilesaway2_ei'], inplace = True)\n",
    "meyer.shape"
   ]
  },
  {
   "cell_type": "code",
   "execution_count": 55,
   "id": "941b48bf-2557-4e92-a0f5-01fd859595bd",
   "metadata": {},
   "outputs": [
    {
     "data": {
      "text/plain": [
       "(1494, 225)"
      ]
     },
     "execution_count": 55,
     "metadata": {},
     "output_type": "execute_result"
    }
   ],
   "source": [
    "# w1q123 is about outness in different social contexts.\n",
    "# They had an option (5) for \"don't know/doesn't apply.\"  I don't know what \n",
    "# the truth is for these missing values, so I'm recoding them to \"don't know.\"\n",
    "meyer[['w1q123a_ei', 'w1q123b_ei', 'w1q123c_ei', 'w1q123d_ei']] = meyer[[\n",
    "  'w1q123a', 'w1q123b', 'w1q123c', 'w1q123d']].fillna(5)\n",
    "\n",
    "# Drop the originals\n",
    "meyer.drop(columns = ['w1q123a', 'w1q123b', 'w1q123c', 'w1q123d'], inplace = True)\n",
    "meyer.shape"
   ]
  },
  {
   "cell_type": "code",
   "execution_count": 56,
   "id": "d060502b-635c-4acd-8f4f-6055608ff610",
   "metadata": {},
   "outputs": [
    {
     "data": {
      "text/plain": [
       "(1494, 225)"
      ]
     },
     "execution_count": 56,
     "metadata": {},
     "output_type": "execute_result"
    }
   ],
   "source": [
    "# w1q179 is about religion\n",
    "# Option 13 means \"nothing in particular\", which seems logical for missing values\n",
    "meyer[['w1q179_ei']] = meyer[['w1q179']].fillna(13)\n",
    "meyer[['w1q179', 'w1q179_ei']]\n",
    "\n",
    "meyer.drop(columns = 'w1q179', inplace = True)\n",
    "meyer.shape"
   ]
  },
  {
   "cell_type": "code",
   "execution_count": 57,
   "id": "b494f361-8457-41d6-b252-f912c2ba7bd9",
   "metadata": {},
   "outputs": [
    {
     "data": {
      "text/plain": [
       "(1494, 225)"
      ]
     },
     "execution_count": 57,
     "metadata": {},
     "output_type": "execute_result"
    }
   ],
   "source": [
    "# w1q32 asks if they are in a relationship.  The subsequent questions are about that \n",
    "# relationship, and people who said \"no\" or didn't answer were not shown those questions.\n",
    "# Given that NAs were treated as \"no\", I imputed them as \"no.\"\n",
    "meyer[['w1q32_ei']] = meyer[['w1q32']].fillna(2)\n",
    "\n",
    "# Drop the original\n",
    "meyer.drop(columns = ['w1q32'], inplace = True)\n",
    "meyer.shape"
   ]
  },
  {
   "cell_type": "code",
   "execution_count": 58,
   "id": "eb8bdce5-3cea-4805-a5c4-b857b222e61f",
   "metadata": {},
   "outputs": [
    {
     "data": {
      "text/plain": [
       "(1494, 225)"
      ]
     },
     "execution_count": 58,
     "metadata": {},
     "output_type": "execute_result"
    }
   ],
   "source": [
    "# 'w1q33' and 'w1q34'\n",
    "# These questions are about romantic partner relationships.\n",
    "# The 97s are people who said they don't have partners.  \n",
    "# The logical imputation is 0.  The original values did not include 0s.\n",
    "\n",
    "# Fill the NAs\n",
    "meyer[['w1q33_ei']] = meyer[['w1q33']].fillna(0)\n",
    "meyer[['w1q34_ei']] = meyer[['w1q34']].fillna(0)\n",
    "\n",
    "# Recode the 97s and 7s\n",
    "cond1 = meyer['w1q33_ei']==97.0\n",
    "meyer.loc[cond1, 'w1q33_ei']=0\n",
    "\n",
    "cond2 = meyer['w1q34_ei']==7.0\n",
    "meyer.loc[cond2, 'w1q34_ei']=0\n",
    "\n",
    "# Drop the originals\n",
    "meyer.drop(columns = ['w1q33', 'w1q34'], inplace = True)\n",
    "meyer.shape"
   ]
  },
  {
   "cell_type": "code",
   "execution_count": 59,
   "id": "d51f78f5-ad76-4ae2-878f-583ea971a2a0",
   "metadata": {},
   "outputs": [
    {
     "data": {
      "text/plain": [
       "(1494, 225)"
      ]
     },
     "execution_count": 59,
     "metadata": {},
     "output_type": "execute_result"
    }
   ],
   "source": [
    "# Questions 137 and 138 ask about poor treatment in the workplace, and question 139 asks \n",
    "# if they believe they were targeted for that treatment because of an identity they hold.\n",
    "# If they didn't answer 137 and/or 138, but did provide an answer in 139, I imputed \"Once\" (2)\n",
    "# into both 137 and 138.  Otherwise, I imputed \"Never\" (1).\n",
    "\n",
    "# Create a new column to sum up the sub-parts of 139\n",
    "meyer['sum_w1q139'] = meyer[\"w1q139_1_ei\"] + meyer[\n",
    "  \"w1q139_2_ei\"] + meyer[\"w1q139_3_ei\"] + meyer[\n",
    "  \"w1q139_4_ei\"] + meyer[\"w1q139_5_ei\"] + meyer[\n",
    "  \"w1q139_6_ei\"] + meyer[\"w1q139_7_ei\"] + meyer[\n",
    "  \"w1q139_8_ei\"] + meyer[\"w1q139_9_ei\"] + meyer[\"w1q139_10_ei\"]\n",
    "\n",
    "# Create new columns for 137 and 138\n",
    "meyer[['w1q137_ei']] = meyer[['w1q137']]\n",
    "meyer[['w1q138_ei']] = meyer[['w1q138']]\n",
    "\n",
    "# Define conditions\n",
    "cond1 = meyer['w1q137'].isna()\n",
    "cond2 = meyer['w1q138'].isna()\n",
    "\n",
    "# In the new columns, fill the NAs with 2 or 1 based on the sum column\n",
    "meyer.loc[cond1, 'w1q137_ei'] = np.where(meyer.loc[cond1, 'sum_w1q139']>0, 2, 1)\n",
    "meyer.loc[cond2, 'w1q138_ei'] = np.where(meyer.loc[cond2, 'sum_w1q139']>0, 2, 1)\n",
    "\n",
    "# Drop the originals and the sum\n",
    "meyer.drop(columns = ['w1q137', 'w1q138', 'sum_w1q139'], inplace = True)\n",
    "meyer.shape"
   ]
  },
  {
   "cell_type": "code",
   "execution_count": 60,
   "id": "bd2fd482-30d6-4fab-8743-ed28c7b08f8b",
   "metadata": {},
   "outputs": [
    {
     "data": {
      "text/plain": [
       "(1494, 225)"
      ]
     },
     "execution_count": 60,
     "metadata": {},
     "output_type": "execute_result"
    }
   ],
   "source": [
    "# Similarly, question 140 asked about housing discrimination, and question 141 asks why\n",
    "# the participant thinks they had that experience.\n",
    "\n",
    "# Create a new column to sum up the sub-parts of 141\n",
    "meyer['sum_w1q141'] = meyer[\"w1q141_1_ei\"] + meyer[\n",
    "  \"w1q141_2_ei\"] + meyer[\"w1q141_3_ei\"] + meyer[\n",
    "  \"w1q141_4_ei\"] + meyer[\"w1q141_5_ei\"] + meyer[\n",
    "  \"w1q141_6_ei\"] + meyer[\"w1q141_7_ei\"] + meyer[\n",
    "  \"w1q141_8_ei\"] + meyer[\"w1q141_9_ei\"] + meyer[\"w1q141_10_ei\"]\n",
    "\n",
    "# Create a new column for 140\n",
    "meyer[['w1q140_ei']] = meyer[['w1q140']]\n",
    "\n",
    "# Define the condition\n",
    "cond1 = meyer['w1q140'].isna()\n",
    "\n",
    "# In the new column, fill the NAs with 2 or 1 based on the sum column\n",
    "meyer.loc[cond1, 'w1q140_ei'] = np.where(meyer.loc[cond1, 'sum_w1q141']>0, 2, 1)\n",
    "\n",
    "# Drop the original and the sum\n",
    "meyer.drop(columns = ['w1q140', 'sum_w1q141'], inplace = True)\n",
    "meyer.shape"
   ]
  },
  {
   "cell_type": "code",
   "execution_count": 61,
   "id": "acce9060-713c-4a59-bd30-fc669721330c",
   "metadata": {},
   "outputs": [
    {
     "data": {
      "text/plain": [
       "(1494, 225)"
      ]
     },
     "execution_count": 61,
     "metadata": {},
     "output_type": "execute_result"
    }
   ],
   "source": [
    "# Question 146b asks if the participant agrees with the statement, \"you don't have enough\n",
    "# money to make ends meet.\"  'w1poverty_i' categorized people as below or above the poverty \n",
    "# line, based on their reported income and household size.  If someone was categorized as \n",
    "# below the poverty line, but didn't answer 146b, I imputed \"somewhat true\" (1) for 146b.\n",
    "# Otherwise I imputed \"Not true\" (0).  This was a difficult decision for me, because although\n",
    "# \"Not true\" was the most common response among the populated values (47.4%), most participants \n",
    "# did indicate agreement with the statement (\"Somewhat true\": 29.2%, \"Very true\": 22.4%, \n",
    "# combined: 51.6%).  However, I chose to err on the side of caution, and use 0.\n",
    "\n",
    "# Create a new column for 146d\n",
    "meyer[['w1q146b_ei']] = meyer[['w1q146b']]\n",
    "\n",
    "# The np.where got messy, so I'm doing the same thing with a for loop here.\n",
    "for i in list(range(meyer.shape[0])):\n",
    "  if pd.notna(meyer.loc[i, 'w1q146b_ei'])==True:\n",
    "    continue\n",
    "  elif meyer.loc[i, 'w1poverty_i']==1:  # census poverty yes\n",
    "    meyer.loc[i, 'w1q146b_ei']=1\n",
    "  else:\n",
    "    meyer.loc[i, 'w1q146b_ei']=0\n",
    "\n",
    "# Drop the original\n",
    "meyer.drop(columns = 'w1q146b', inplace = True)\n",
    "meyer.shape"
   ]
  },
  {
   "cell_type": "code",
   "execution_count": 62,
   "id": "e369aeaa-47f0-4407-a9e0-6cd71d72a5b2",
   "metadata": {},
   "outputs": [
    {
     "data": {
      "text/plain": [
       "(1494, 225)"
      ]
     },
     "execution_count": 62,
     "metadata": {},
     "output_type": "execute_result"
    }
   ],
   "source": [
    "# Question 146d asks about unemployment, but 142 also asked about unemployment.\n",
    "# I used those responses to infer \"Not true\" (0) or \"Somewhat true\" (1) for 146d.\n",
    "\n",
    "# Create a new column for 146d\n",
    "meyer[['w1q146d_ei']] = meyer[['w1q146d']]\n",
    "\n",
    "# The np.where got messy, so I'm doing the same thing with a for loop here.\n",
    "for i in list(range(meyer.shape[0])):\n",
    "  if pd.notna(meyer.loc[i, 'w1q146d_ei'])==True:  # skip the ones that are already populated\n",
    "    continue \n",
    "  elif meyer.loc[i, 'w1q142c']==1:\n",
    "    meyer.loc[i, 'w1q146d_ei']=1\n",
    "  elif meyer.loc[i, 'w1q142b']==1:\n",
    "    meyer.loc[i, 'w1q146d_ei']=1\n",
    "  else:\n",
    "    meyer.loc[i, 'w1q146d_ei']=0\n",
    "\n",
    "# Drop the original\n",
    "meyer.drop(columns = 'w1q146d', inplace = True)\n",
    "meyer.shape"
   ]
  },
  {
   "cell_type": "markdown",
   "id": "362a0870-de1f-4f3b-ad24-aa1044b0ebaf",
   "metadata": {},
   "source": [
    "When the only remaining features were ones for which no logical imputation value presented itself, I opted to use either the median or mode of their populated counterparts.  I chose which measure to use for each column based on my own best judgment of which made the most logical sense.  I will discuss how I would like to improve upon my imputation process the *Limitations* and *Recommendations* sections, but I deemed that this expedient approximation would suffice for the time being."
   ]
  },
  {
   "cell_type": "code",
   "execution_count": 63,
   "id": "347cb4e4-77cf-4fef-b2d1-659e3fd5c99c",
   "metadata": {},
   "outputs": [],
   "source": [
    "# Fix some 98s (like 97s) on this one\n",
    "meyer.loc[:, 'w1q01'] = np.where(meyer.loc[:, 'w1q01']==98, np.nan, meyer.loc[:, 'w1q01'])\n",
    "\n",
    "# Define the lists for imputation\n",
    "s_median = [\"w1q146c\", \"w1q162\", \"w1q181\", \"w1q146f\", \"w1q146g\", \"w1q146e\", \n",
    "  \"w1q146a\", \"w1q146h\", \"w1q146i\", \"w1q146j\", \"w1q146k\", \"w1q146l\", \"w1q169\"]\n",
    "\n",
    "s_mode = [\"w1q175\", \"w1q72\", \"w1q142d\", \"w1q65\", \"w1q52\", \"w1q142i\", \"w1q142g\", \n",
    "  \"w1q180\", \"w1q69\", \"w1q135d\", \"w1q142h\", \"w1q135b\", \"w1q135c\", \"w1q135e\", \n",
    "  \"w1q142b\", \"w1q142e\", \"w1q142f\", \"w1q142j\", \"w1q142a\", \"w1q142k\", \"w1q19c\", \n",
    "  \"w1q19d\", \"w1q19b\", \"w1q19a\", \"w1q75\", \"w1q78\", \"w1q79\", \"w1q76\", \"w1q135a\", \n",
    "  \"w1q135f\", \"w1q142c\", \"w1q35\", \"w1q36\", \"w1q37\", \"w1q38\", \"w1q124\", \"w1q89\",\n",
    "  \"w1q03\", 'w1q01', 'w1poverty_i', 'w1povertycat_i']\n",
    "  # re the _i variables : Meyer imputed these many of these values by imputing  \n",
    "  # household income, but left NAs where household size was missing.\n",
    "  # See p. 18-19 of 37166-Documentation-methodology.pdf\n",
    "\n",
    "# Define new column names\n",
    "s_median_new = [''.join([x, '_ei']) for x in s_median]\n",
    "s_mode_new = [''.join([x, '_ei']) for x in s_mode]"
   ]
  },
  {
   "cell_type": "code",
   "execution_count": 64,
   "id": "efa498ba-502d-4edf-9873-fe46f91c0369",
   "metadata": {},
   "outputs": [
    {
     "name": "stdout",
     "output_type": "stream",
     "text": [
      "True\n",
      "True\n"
     ]
    }
   ],
   "source": [
    "# Make extra sure they're in the same order\n",
    "print(sorted(s_mode)==['_'.join(s.split('_')[:-1]) for s in sorted(s_mode_new)])\n",
    "print(sorted(s_median)==['_'.join(s.split('_')[:-1]) for s in sorted(s_median_new)])"
   ]
  },
  {
   "cell_type": "code",
   "execution_count": 65,
   "id": "e3edf166-b79a-4cc5-aff4-5aea05af008c",
   "metadata": {},
   "outputs": [],
   "source": [
    "# Split the dataframe up to use 2 different imputers\n",
    "meyer_median = meyer[s_median+['studyid']]\n",
    "meyer_mode = meyer[s_mode+['studyid']]\n",
    "\n",
    "# Rename the columns in the new dataframes\n",
    "s_median_new.append('studyid')\n",
    "s_mode_new.append('studyid')\n",
    "meyer_median.columns = s_median_new\n",
    "meyer_mode.columns = s_mode_new"
   ]
  },
  {
   "cell_type": "code",
   "execution_count": 66,
   "id": "c8ca1c7e-f76f-4633-a7df-3f0441c10fb9",
   "metadata": {},
   "outputs": [
    {
     "name": "stdout",
     "output_type": "stream",
     "text": [
      "0\n",
      "0\n"
     ]
    }
   ],
   "source": [
    "# Instantiate the imputers\n",
    "si_med = SimpleImputer(strategy = 'median')\n",
    "si_mode = SimpleImputer(strategy = 'most_frequent')\n",
    "\n",
    "# Do the imputation\n",
    "meyer_median = pd.DataFrame(\n",
    "  si_med.fit_transform(meyer_median), columns = si_med.get_feature_names_out())\n",
    "\n",
    "meyer_mode = pd.DataFrame(\n",
    "  si_mode.fit_transform(meyer_mode), columns = si_mode.get_feature_names_out())\n",
    "\n",
    "# Check it out - should be 0s\n",
    "print(meyer_median.isna().sum().sum())\n",
    "print(meyer_mode.isna().sum().sum())"
   ]
  },
  {
   "cell_type": "code",
   "execution_count": 67,
   "id": "c283c0a5-4365-4591-a013-e636620e8312",
   "metadata": {},
   "outputs": [
    {
     "data": {
      "text/plain": [
       "True"
      ]
     },
     "execution_count": 67,
     "metadata": {},
     "output_type": "execute_result"
    }
   ],
   "source": [
    "# Merge them back together\n",
    "meyer_m = meyer.merge(\n",
    "  meyer_median, left_on = 'studyid', right_on = 'studyid', how = 'left').merge(\n",
    "    meyer_mode, left_on = 'studyid', right_on = 'studyid', how = 'left')\n",
    "\n",
    "# All good?\n",
    "meyer_m.shape[1]==(meyer.shape[1]+len(s_median)+len(s_mode))"
   ]
  },
  {
   "cell_type": "code",
   "execution_count": 68,
   "id": "767e0145-ffda-4beb-8d12-a5d2f24cc7c8",
   "metadata": {},
   "outputs": [
    {
     "data": {
      "text/plain": [
       "(1494, 225)"
      ]
     },
     "execution_count": 68,
     "metadata": {},
     "output_type": "execute_result"
    }
   ],
   "source": [
    "# Put it back under its own name\n",
    "meyer = meyer_m.copy(deep = True)\n",
    "del meyer_m\n",
    "\n",
    "# Drop the originals\n",
    "drop_cols = s_median + s_mode\n",
    "meyer.drop(columns = drop_cols, inplace = True)\n",
    "meyer.shape"
   ]
  },
  {
   "cell_type": "code",
   "execution_count": 69,
   "id": "79a3319a-d2a1-457b-b43b-7e3ea422e86c",
   "metadata": {
    "scrolled": true
   },
   "outputs": [
    {
     "data": {
      "text/plain": [
       "studyid               0\n",
       "w1q74_6_ei            0\n",
       "w1q64_4_ei            0\n",
       "w1q64_2_ei            0\n",
       "w1q30_1_ei            0\n",
       "w1q171_1_ei           0\n",
       "w1q30_2_ei            0\n",
       "w1q64_t_num           0\n",
       "w1q101_ei             0\n",
       "w1q105_ei             0\n",
       "w1q109_ei             0\n",
       "w1q119_ei             0\n",
       "w1q114_ei             0\n",
       "w1q166_ei             0\n",
       "w1q167_ei             0\n",
       "w1q168_ei             0\n",
       "gmilesaway2_ei_r      0\n",
       "w1q123a_ei            0\n",
       "w1q123b_ei            0\n",
       "w1q123c_ei            0\n",
       "w1q123d_ei            0\n",
       "w1q179_ei             0\n",
       "w1q32_ei              0\n",
       "w1q33_ei              0\n",
       "w1q34_ei              0\n",
       "w1q137_ei             0\n",
       "w1q138_ei             0\n",
       "w1q74_23_ei           0\n",
       "w1q171_7_ei           0\n",
       "w1q171_2_ei           0\n",
       "w1q171_4_ei           0\n",
       "w1q64_11_ei           0\n",
       "w1q64_10_ei           0\n",
       "w1q74_18_ei           0\n",
       "w1q74_14_ei           0\n",
       "w1q74_17_ei           0\n",
       "w1q171_8_ei           0\n",
       "w1q30_3_ei            0\n",
       "w1q64_13_ei           0\n",
       "w1q64_7_ei            0\n",
       "w1q30_4_ei            0\n",
       "w1q171_6_ei           0\n",
       "w1q64_8_ei            0\n",
       "w1q64_9_ei            0\n",
       "w1q74_10_ei           0\n",
       "w1q74_21_ei           0\n",
       "w1q64_6_ei            0\n",
       "w1q74_11_ei           0\n",
       "w1q171_5_ei           0\n",
       "w1q64_3_ei            0\n",
       "w1q64_1_ei            0\n",
       "w1q171_9_ei           0\n",
       "w1q30_5_ei            0\n",
       "w1q171_3_ei           0\n",
       "w1q74_22_ei           0\n",
       "w1q140_ei             0\n",
       "w1q146b_ei            0\n",
       "w1q146d_ei            0\n",
       "w1q76_ei              0\n",
       "w1q142f_ei            0\n",
       "w1q142j_ei            0\n",
       "w1q142a_ei            0\n",
       "w1q142k_ei            0\n",
       "w1q19c_ei             0\n",
       "w1q19d_ei             0\n",
       "w1q19b_ei             0\n",
       "w1q19a_ei             0\n",
       "w1q75_ei              0\n",
       "w1q78_ei              0\n",
       "w1q79_ei              0\n",
       "w1q135a_ei            0\n",
       "w1q142b_ei            0\n",
       "w1q135f_ei            0\n",
       "w1q142c_ei            0\n",
       "w1q35_ei              0\n",
       "w1q36_ei              0\n",
       "w1q37_ei              0\n",
       "w1q38_ei              0\n",
       "w1q124_ei             0\n",
       "w1q89_ei              0\n",
       "w1q03_ei              0\n",
       "w1q01_ei              0\n",
       "w1poverty_i_ei        0\n",
       "w1q142e_ei            0\n",
       "w1q135e_ei            0\n",
       "w1q146c_ei            0\n",
       "w1q169_ei             0\n",
       "w1q162_ei             0\n",
       "w1q181_ei             0\n",
       "w1q146f_ei            0\n",
       "w1q146g_ei            0\n",
       "w1q146e_ei            0\n",
       "w1q146a_ei            0\n",
       "w1q146h_ei            0\n",
       "w1q146i_ei            0\n",
       "w1q146j_ei            0\n",
       "w1q146k_ei            0\n",
       "w1q146l_ei            0\n",
       "w1q175_ei             0\n",
       "w1q135c_ei            0\n",
       "w1q72_ei              0\n",
       "w1q142d_ei            0\n",
       "w1q65_ei              0\n",
       "w1q52_ei              0\n",
       "w1q142i_ei            0\n",
       "w1q142g_ei            0\n",
       "w1q180_ei             0\n",
       "w1q69_ei              0\n",
       "w1q135d_ei            0\n",
       "w1q142h_ei            0\n",
       "w1q135b_ei            0\n",
       "w1q74_20_ei           0\n",
       "w1q74_5_ei            0\n",
       "waveparticipated      0\n",
       "w1q64_5_ei            0\n",
       "w1ace_sep_i           0\n",
       "w1ace_sex_i           0\n",
       "w1ace_sub_i           0\n",
       "w1auditc_i            0\n",
       "w1childgnc_i          0\n",
       "w1connectedness_i     0\n",
       "w1dudit_i             0\n",
       "w1everyday_i          0\n",
       "w1feltstigma_i        0\n",
       "w1hcthreat_i          0\n",
       "w1idcentral_i         0\n",
       "w1internalized_i      0\n",
       "w1kessler6_i          0\n",
       "w1lifesat_i           0\n",
       "w1meim_i              0\n",
       "w1socialwb_i          0\n",
       "w1socsupport_fam_i    0\n",
       "w1socsupport_fr_i     0\n",
       "w1socsupport_i        0\n",
       "w1socsupport_so_i     0\n",
       "w1q145_3_ei           0\n",
       "w1q163_3_ei           0\n",
       "w1q136_3_ei           0\n",
       "w1q145_9_ei           0\n",
       "w1q143_3_ei           0\n",
       "w1ace_phy_i           0\n",
       "w1ace_men_i           0\n",
       "w1ace_ipv_i           0\n",
       "w1sex                 0\n",
       "w1weight_full         0\n",
       "w1survey_yr           0\n",
       "cohort                0\n",
       "geduc1                0\n",
       "geduc2                0\n",
       "geducation            0\n",
       "gurban_i              0\n",
       "gcendiv               0\n",
       "gcenreg               0\n",
       "screen_race           0\n",
       "w1race                0\n",
       "w1gender              0\n",
       "w1ace_inc_i           0\n",
       "w1sex_gender          0\n",
       "w1age                 0\n",
       "w1sexualid            0\n",
       "w1sexminid            0\n",
       "w1pinc_i              0\n",
       "w1hinc_i              0\n",
       "w1conversion          0\n",
       "w1conversionhc        0\n",
       "w1conversionrel       0\n",
       "w1ace_i               0\n",
       "w1ace_emo_i           0\n",
       "w1q136_10_ei          0\n",
       "w1q145_10_ei          0\n",
       "w1q136_9_ei           0\n",
       "w1q139_7_ei           0\n",
       "w1q145_2_ei           0\n",
       "w1q139_3_ei           0\n",
       "w1q136_7_ei           0\n",
       "w1q139_9_ei           0\n",
       "w1q139_10_ei          0\n",
       "w1q139_5_ei           0\n",
       "w1q139_4_ei           0\n",
       "w1q139_8_ei           0\n",
       "w1q139_6_ei           0\n",
       "w1q139_2_ei           0\n",
       "w1q139_1_ei           0\n",
       "w1q163_8_ei           0\n",
       "w1q163_7_ei           0\n",
       "w1q141_3_ei           0\n",
       "w1q141_9_ei           0\n",
       "w1q141_10_ei          0\n",
       "w1q141_8_ei           0\n",
       "w1q141_4_ei           0\n",
       "w1q141_1_ei           0\n",
       "w1q141_5_ei           0\n",
       "w1q141_2_ei           0\n",
       "w1q141_7_ei           0\n",
       "w1q141_6_ei           0\n",
       "w1q64_12_ei           0\n",
       "w1q136_2_ei           0\n",
       "w1q145_7_ei           0\n",
       "w1q163_10_ei          0\n",
       "w1q163_6_ei           0\n",
       "w1q163_9_ei           0\n",
       "w1q143_9_ei           0\n",
       "w1q143_4_ei           0\n",
       "w1q136_6_ei           0\n",
       "w1q143_10_ei          0\n",
       "w1q143_5_ei           0\n",
       "w1q145_4_ei           0\n",
       "w1q136_5_ei           0\n",
       "w1q143_8_ei           0\n",
       "w1q163_5_ei           0\n",
       "w1q136_4_ei           0\n",
       "w1q145_6_ei           0\n",
       "w1q145_1_ei           0\n",
       "w1q136_1_ei           0\n",
       "w1q143_7_ei           0\n",
       "w1q163_1_ei           0\n",
       "w1q143_2_ei           0\n",
       "w1q143_1_ei           0\n",
       "w1q145_5_ei           0\n",
       "w1q143_6_ei           0\n",
       "w1q163_2_ei           0\n",
       "w1q163_4_ei           0\n",
       "w1q136_8_ei           0\n",
       "w1q145_8_ei           0\n",
       "w1povertycat_i_ei     0\n",
       "dtype: int64"
      ]
     },
     "execution_count": 69,
     "metadata": {},
     "output_type": "execute_result"
    }
   ],
   "source": [
    "# Recheck the NAs\n",
    "meyer.isna().sum().sort_values(ascending = False)"
   ]
  },
  {
   "cell_type": "code",
   "execution_count": 70,
   "id": "53866ef4-0fe1-46e2-8cfb-207591d58bb2",
   "metadata": {},
   "outputs": [
    {
     "data": {
      "text/plain": [
       "True"
      ]
     },
     "execution_count": 70,
     "metadata": {},
     "output_type": "execute_result"
    }
   ],
   "source": [
    "# Reorder the columns\n",
    "ordered_cols = sorted(list(meyer.columns))\n",
    "ordered_cols.remove('studyid')\n",
    "ordered_cols = ['studyid'] + ordered_cols\n",
    "len(ordered_cols)==meyer.shape[1]"
   ]
  },
  {
   "cell_type": "code",
   "execution_count": 71,
   "id": "b1ea308d-0b55-4fef-90df-bd1ad221598d",
   "metadata": {},
   "outputs": [
    {
     "data": {
      "text/plain": [
       "(1494, 225)"
      ]
     },
     "execution_count": 71,
     "metadata": {},
     "output_type": "execute_result"
    }
   ],
   "source": [
    "meyer = meyer[ordered_cols]\n",
    "meyer.shape"
   ]
  },
  {
   "cell_type": "markdown",
   "id": "c6f6f23d-d804-447b-9bb0-207ed7fc3794",
   "metadata": {},
   "source": [
    "## Notebook Summary"
   ]
  },
  {
   "cell_type": "markdown",
   "id": "f5053e7a-51cd-4dac-ac29-ec2efede32fc",
   "metadata": {},
   "source": [
    "In this notebook, I ingested the data, gave the columns more convenient names, conducted a first round of feature selection, and resolved all missing values.\n",
    "\n",
    "In the following notebook, I will finish preparing the data for modeling by creating composite score features, recoding columns as necessary, and any other necessary feature engineering.\n",
    "\n",
    "Any readers who are following along or attempting to reproduce my work should use the cell below to save a copy of the dataframe as it exists now.  A cell is provided at the top of the next notebook in which to import that copy."
   ]
  },
  {
   "cell_type": "code",
   "execution_count": 72,
   "id": "3e6163c0-cf44-4bae-9298-679f590e101d",
   "metadata": {},
   "outputs": [],
   "source": [
    "# Save a copy of the dataframe to use in the next notebook\n",
    "meyer.to_csv('../02_data/df_after_data_preparation_part_1.csv', index = False)"
   ]
  }
 ],
 "metadata": {
  "kernelspec": {
   "display_name": "Python 3 (ipykernel)",
   "language": "python",
   "name": "python3"
  },
  "language_info": {
   "codemirror_mode": {
    "name": "ipython",
    "version": 3
   },
   "file_extension": ".py",
   "mimetype": "text/x-python",
   "name": "python",
   "nbconvert_exporter": "python",
   "pygments_lexer": "ipython3",
   "version": "3.11.7"
  }
 },
 "nbformat": 4,
 "nbformat_minor": 5
}
