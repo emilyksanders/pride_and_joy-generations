{
 "cells": [
  {
   "cell_type": "markdown",
   "id": "6fe691e0-4e29-4940-9dbe-1fbd01f6cd1d",
   "metadata": {},
   "source": [
    "# **Pride and Joy**\n",
    "### *An investigation of mental health correlates in LGBQ+ people*\n",
    "| | | | | | | | | | | | | | | | | | | | | | | | | | | | | | | | | | |\n",
    "|-|-|-|-|-|-|-|-|-|-|-|-|-|-|-|-|-|-|-|-|-|-|-|-|-|-|-|-|-|-|-|-|-|-|\n",
    "|Emily K. Sanders| | | | | | | | | | | | | | | | | | | | | | | | | | | | | | | | |Capstone Project|\n",
    "|DSB-318| | | | | | | | | | | | | | | | | | | | | | | | | | | | | | | | |June 13, 2024|\n",
    "---"
   ]
  },
  {
   "cell_type": "markdown",
   "id": "9d4fe8eb-7a9a-49ad-94f6-c51e6c977340",
   "metadata": {},
   "source": [
    "## Prior Notebooks Summary"
   ]
  },
  {
   "cell_type": "markdown",
   "id": "3bb31692-0eb4-4ce9-b4dd-5f5f1dcf5ba0",
   "metadata": {},
   "source": [
    "In the previous notebook, I modeled my data in the hopes of drawing inferences about the drivers of mental health symptoms and outcomes in queer people. \n",
    "\n",
    "In this notebook, I will discuss my findings, and the next steps."
   ]
  },
  {
   "cell_type": "markdown",
   "id": "8929a245-b12c-41a4-86f9-b921513cb541",
   "metadata": {},
   "source": [
    "## Table of Contents"
   ]
  },
  {
   "cell_type": "markdown",
   "id": "93ecd243-c1df-4597-967c-426ce2ecb2b7",
   "metadata": {},
   "source": [
    "- [Limitations and Recommendations](#limitations-and-recommendations)"
   ]
  },
  {
   "cell_type": "markdown",
   "id": "cbfd7bc3-fddd-47b2-ada0-8a7d3d48ef09",
   "metadata": {},
   "source": [
    "## Limitations and Recommendations"
   ]
  },
  {
   "cell_type": "markdown",
   "id": "48a01b8a-ca79-461f-ad41-92d0e41e856d",
   "metadata": {},
   "source": [
    "The most concerning of the limitations of my work is the age of the dataset.  As mentioned previously, this data is concerned with sensitive personal and political issues, and personal responses are likely to change over time as public opinion fluctuates.  In particular, the current dataset was gathered in 2016, meaning that it pre-dates a great deal of recent political and cultural upheaval, dramatic spikes in public hostility and discrimination towards queer (and many other) people, and a global pandemic with far-reaching, often catastrophic effects.  The resonance of the current results with prior findings offers some encouragement in their utility, but it is imperative to conduct more research on more recent data to establish whether and how any of these effects may have changed in recent history.\n",
    "\n",
    "Furthermore, the current project was constrained to a tight turn-around schedule, which necessitated many simplifying assumptions and actions.  In particular, in the future, I hope to assess the extent to which the imputation of missing values may have changed the results.  As is common in such long questionaires, many participants exhibited fatigue effects and did not complete all of the questions.  In the Adverse Childhood Experiences scale items in particular, in which a disproportionately high number of responses were missing, it also seems likely that many participants chose not to answer the questions; i.e., these values were not randomly missing, as appears to be the case in most other features.  First Meyer, and then I, imputed all of these values, so as to not sacrifice all the responses the participants did provide.  This is common practice in data science, and indeed most fields that use statistical techniques, but it always carries the risk of introducing error into the dataset.  The wealth of features in this dataset carried a proportionate tax of missing values, leading to large number (if a small percentage) of imputed values in the \"cleaned\" data I used for modeling.  I would be very interested to see if different approaches to this problem result in substantially different models.  \n",
    "\n",
    "However, the current work is not without its practical value.  The relatively good performance of this model (for a model of its type, on this topic) offers further evidence for what advocates and experts have been saying for years: queer people's disproportionate rates of psychological distress and mental illness is not a mystery, nor is there any evidence to suggest it is an inherent or immutable part of the identity.  Poor psychological outcomes in this community are driven by how they are supported in society and treated in their communities.  Poverty, stress, and oppression based on who they are as people can drag their mental health down, but support and acceptance from other people, connection to a community of other queer people, and pride and comfort in their identities can build it back up.  If we as a society want to improve the mental health of queer people, we must stop alienating them, and instead offer them the consideration and connection we would offer anyone else."
   ]
  }
 ],
 "metadata": {
  "kernelspec": {
   "display_name": "Python 3 (ipykernel)",
   "language": "python",
   "name": "python3"
  },
  "language_info": {
   "codemirror_mode": {
    "name": "ipython",
    "version": 3
   },
   "file_extension": ".py",
   "mimetype": "text/x-python",
   "name": "python",
   "nbconvert_exporter": "python",
   "pygments_lexer": "ipython3",
   "version": "3.11.7"
  }
 },
 "nbformat": 4,
 "nbformat_minor": 5
}
